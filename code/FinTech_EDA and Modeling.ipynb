{
 "cells": [
  {
   "cell_type": "code",
   "execution_count": 6,
   "metadata": {},
   "outputs": [],
   "source": [
    "import pandas as pd\n",
    "import numpy as np\n",
    "import matplotlib.pyplot as plt\n",
    "%matplotlib inline\n",
    "import xgboost as xgb\n",
    "import seaborn as sns\n",
    "\n",
    "pd.set_option('display.max_columns', None)\n",
    "\n",
    "\n",
    "import warnings\n",
    "with warnings.catch_warnings():\n",
    "    warnings.filterwarnings('ignore')"
   ]
  },
  {
   "cell_type": "markdown",
   "metadata": {},
   "source": [
    "## Load Data"
   ]
  },
  {
   "cell_type": "code",
   "execution_count": 51,
   "metadata": {},
   "outputs": [
    {
     "name": "stderr",
     "output_type": "stream",
     "text": [
      "C:\\Users\\chloe.song\\AppData\\Local\\Continuum\\anaconda3\\lib\\site-packages\\IPython\\core\\interactiveshell.py:2785: DtypeWarning: Columns (64) have mixed types. Specify dtype option on import or set low_memory=False.\n",
      "  interactivity=interactivity, compiler=compiler, result=result)\n"
     ]
    }
   ],
   "source": [
    "# windows\n",
    "df1 = pd.read_csv('/Users/chloe.song/Documents/Projects/DS191/11FinTech/data/loan_2014.csv')\n",
    "\n",
    "# mac\n",
    "# df1 = pd.read_csv('loan_2014.csv')"
   ]
  },
  {
   "cell_type": "code",
   "execution_count": 52,
   "metadata": {},
   "outputs": [
    {
     "data": {
      "text/plain": [
       "(235631, 103)"
      ]
     },
     "execution_count": 52,
     "metadata": {},
     "output_type": "execute_result"
    }
   ],
   "source": [
    "df1.shape"
   ]
  },
  {
   "cell_type": "code",
   "execution_count": 10,
   "metadata": {},
   "outputs": [
    {
     "name": "stdout",
     "output_type": "stream",
     "text": [
      "<class 'pandas.core.frame.DataFrame'>\n",
      "RangeIndex: 235631 entries, 0 to 235630\n",
      "Columns: 103 entries, addrstate to loanstatus\n",
      "dtypes: float64(85), object(18)\n",
      "memory usage: 185.2+ MB\n"
     ]
    }
   ],
   "source": [
    "df1.info()"
   ]
  },
  {
   "cell_type": "markdown",
   "metadata": {},
   "source": [
    "## Select Data"
   ]
  },
  {
   "cell_type": "code",
   "execution_count": 53,
   "metadata": {},
   "outputs": [],
   "source": [
    "all_null_feature =['inqlast12m',\n",
    " 'verificationstatusjoint',\n",
    " 'maxbalbc',\n",
    " 'annualincjoint',\n",
    " 'memberid',\n",
    " 'openil6m',\n",
    " 'openacc6m',\n",
    " 'totalbalil',\n",
    " 'inqfi',\n",
    " 'mthssincercntil',\n",
    " 'openrv24m',\n",
    " 'openrv12m',\n",
    " 'dtijoint',\n",
    " 'openil12m',\n",
    " 'openil24m',\n",
    " 'allutil',\n",
    " 'totalcutl',\n",
    " 'ilutil']"
   ]
  },
  {
   "cell_type": "code",
   "execution_count": 54,
   "metadata": {},
   "outputs": [],
   "source": [
    "ob_feature=['id',\n",
    " 'zipcode',\n",
    " 'revolutil',\n",
    " 'intrate',\n",
    " 'applicationtype',\n",
    " 'grade',\n",
    " 'term',\n",
    " 'subgrade',\n",
    " 'earliestcrline',\n",
    " 'initialliststatus',\n",
    " 'purpose',\n",
    " 'emptitle',\n",
    " 'verificationstatus',\n",
    " 'addrstate',\n",
    " 'homeownership',\n",
    " 'emplength',\n",
    " 'issued',\n",
    " 'loanstatus']"
   ]
  },
  {
   "cell_type": "code",
   "execution_count": 55,
   "metadata": {},
   "outputs": [],
   "source": [
    "num_feature=['avgcurbal',\n",
    " 'numrevaccts',\n",
    " 'mortacc',\n",
    " 'numactvrevtl',\n",
    " 'totalilhighcreditlimit',\n",
    " 'numiltl',\n",
    " 'mthssincelastdelinq',\n",
    " 'totalacc',\n",
    " 'revolbal',\n",
    " 'numacctsever120pd',\n",
    " 'pcttlnvrdlq',\n",
    " 'numtl30dpd',\n",
    " 'percentbcgt75',\n",
    " 'numoprevtl',\n",
    " 'bcutil',\n",
    " 'numactvbctl',\n",
    " 'bcopentobuy',\n",
    " 'totalrevhilim',\n",
    " 'numrevtlbalgt0',\n",
    " 'mthssincerecentrevoldelinq',\n",
    " 'tothicredlim',\n",
    " 'fundedamnt',\n",
    " 'numtl90gdpd24m',\n",
    " 'mthssincerecentinq',\n",
    " 'numbcsats',\n",
    " 'installment',\n",
    " 'totalbclimit',\n",
    " 'mosinoldrevtlop',\n",
    " 'numsats',\n",
    " 'inqlast6mths',\n",
    " 'mthssincerecentbc',\n",
    " 'mosinrcnttl',\n",
    " 'loanamnt',\n",
    " 'mthssincerecentbcdlq',\n",
    " 'totalbalexmort',\n",
    " 'numbctl',\n",
    " 'openacc',\n",
    " 'dti',\n",
    " 'totcollamt',\n",
    " 'numtloppast12m',\n",
    " 'annualinc',\n",
    " 'totcurbal',\n",
    " 'accnowdelinq',\n",
    " 'pubrecbankruptcies',\n",
    " 'chargeoffwithin12mths',\n",
    " 'collections12mthsexmed',\n",
    " 'numtl120dpd2m',\n",
    " 'accopenpast24mths',\n",
    " 'mthssincelastrecord',\n",
    " 'taxliens',\n",
    " 'mosinoldilacct',\n",
    " 'delinq2yrs',\n",
    " 'mosinrcntrevtlop',\n",
    " 'pubrec',\n",
    " 'delinqamnt',\n",
    " 'mthssincelastmajorderog']"
   ]
  },
  {
   "cell_type": "code",
   "execution_count": 56,
   "metadata": {},
   "outputs": [
    {
     "data": {
      "text/plain": [
       "74"
      ]
     },
     "execution_count": 56,
     "metadata": {},
     "output_type": "execute_result"
    }
   ],
   "source": [
    "select_feature = ob_feature + num_feature\n",
    "len(select_feature)"
   ]
  },
  {
   "cell_type": "code",
   "execution_count": 57,
   "metadata": {},
   "outputs": [],
   "source": [
    "# remove applicationtype since it only has one value as 'individual'\n",
    "\n",
    "ob_feature.remove('applicationtype')\n"
   ]
  },
  {
   "cell_type": "code",
   "execution_count": 58,
   "metadata": {},
   "outputs": [],
   "source": [
    "# remove fundedamnt since it always equals to 1 for issued loans and varied during different time of a current loan\n",
    "\n",
    "num_feature.remove('fundedamnt')\n"
   ]
  },
  {
   "cell_type": "code",
   "execution_count": 59,
   "metadata": {},
   "outputs": [],
   "source": [
    "# remove 'id','issued' and 'loanstatus' from ob_feature, since they are index, train/test flag and target\n",
    "ob_feature.remove('id')\n",
    "ob_feature.remove('loanstatus')\n",
    "ob_feature.remove('issued')\n"
   ]
  },
  {
   "cell_type": "code",
   "execution_count": 12,
   "metadata": {},
   "outputs": [],
   "source": [
    "# remove 'desc' from ob_feature and select_feature\n",
    "#ob_feature.remove('desc')\n"
   ]
  },
  {
   "cell_type": "code",
   "execution_count": 60,
   "metadata": {},
   "outputs": [
    {
     "data": {
      "text/plain": [
       "69"
      ]
     },
     "execution_count": 60,
     "metadata": {},
     "output_type": "execute_result"
    }
   ],
   "source": [
    "select_feature = ob_feature + num_feature\n",
    "len(select_feature)"
   ]
  },
  {
   "cell_type": "code",
   "execution_count": 61,
   "metadata": {},
   "outputs": [],
   "source": [
    "# selected features left and delete the last two rows\n",
    "df = df1[select_feature + ['id','loanstatus','issued']][:-2]"
   ]
  },
  {
   "cell_type": "code",
   "execution_count": 62,
   "metadata": {},
   "outputs": [
    {
     "data": {
      "text/plain": [
       "(235629, 72)"
      ]
     },
     "execution_count": 62,
     "metadata": {},
     "output_type": "execute_result"
    }
   ],
   "source": [
    "df.shape"
   ]
  },
  {
   "cell_type": "markdown",
   "metadata": {},
   "source": [
    "## only use term=36 months and loanstatus = fully paid and charged off"
   ]
  },
  {
   "cell_type": "code",
   "execution_count": 63,
   "metadata": {},
   "outputs": [],
   "source": [
    "df = df.query(\"loanstatus == 'Fully Paid' or loanstatus == 'Charged Off' \")"
   ]
  },
  {
   "cell_type": "code",
   "execution_count": 64,
   "metadata": {},
   "outputs": [],
   "source": [
    "df = df.query(\"term ==' 36 months'\")"
   ]
  },
  {
   "cell_type": "code",
   "execution_count": 66,
   "metadata": {},
   "outputs": [
    {
     "data": {
      "text/plain": [
       "(162570, 72)"
      ]
     },
     "execution_count": 66,
     "metadata": {},
     "output_type": "execute_result"
    }
   ],
   "source": [
    "df.shape"
   ]
  },
  {
   "cell_type": "code",
   "execution_count": 67,
   "metadata": {},
   "outputs": [],
   "source": [
    "df.drop('term', axis = 1, inplace=True)"
   ]
  },
  {
   "cell_type": "code",
   "execution_count": 68,
   "metadata": {},
   "outputs": [
    {
     "data": {
      "text/plain": [
       "(162570, 71)"
      ]
     },
     "execution_count": 68,
     "metadata": {},
     "output_type": "execute_result"
    }
   ],
   "source": [
    "df.shape"
   ]
  },
  {
   "cell_type": "code",
   "execution_count": 69,
   "metadata": {},
   "outputs": [],
   "source": [
    "ob_feature.remove('term')"
   ]
  },
  {
   "cell_type": "markdown",
   "metadata": {},
   "source": [
    "## Label Target\n",
    "Fully Paid (No default): 0 付清 <br>\n",
    "Charged Off (Default): 1 坏账\n"
   ]
  },
  {
   "cell_type": "code",
   "execution_count": 70,
   "metadata": {},
   "outputs": [],
   "source": [
    "df['loanstatus'] = df.loanstatus.map({\"Charged Off\": 1, \"Fully Paid\": 0})"
   ]
  },
  {
   "cell_type": "code",
   "execution_count": 71,
   "metadata": {},
   "outputs": [
    {
     "name": "stdout",
     "output_type": "stream",
     "text": [
      "0    140255\n",
      "1     22315\n",
      "Name: loanstatus, dtype: int64\n",
      "0    0.862736\n",
      "1    0.137264\n",
      "Name: loanstatus, dtype: float64\n"
     ]
    }
   ],
   "source": [
    "print (df.loanstatus.value_counts())\n",
    "print (df.loanstatus.value_counts(normalize=True))"
   ]
  },
  {
   "cell_type": "markdown",
   "metadata": {},
   "source": [
    "## Out of time testing set and in-time training set: Oct~Dec as test)"
   ]
  },
  {
   "cell_type": "code",
   "execution_count": 72,
   "metadata": {},
   "outputs": [
    {
     "data": {
      "text/plain": [
       "['Dec-2014',\n",
       " 'Nov-2014',\n",
       " 'Oct-2014',\n",
       " 'Sep-2014',\n",
       " 'Aug-2014',\n",
       " 'Jul-2014',\n",
       " 'Jun-2014',\n",
       " 'May-2014',\n",
       " 'Apr-2014',\n",
       " 'Mar-2014',\n",
       " 'Feb-2014',\n",
       " 'Jan-2014']"
      ]
     },
     "execution_count": 72,
     "metadata": {},
     "output_type": "execute_result"
    }
   ],
   "source": [
    "issued=list(df['issued'].unique())\n",
    "issued"
   ]
  },
  {
   "cell_type": "code",
   "execution_count": 73,
   "metadata": {},
   "outputs": [
    {
     "data": {
      "text/plain": [
       "1    112550\n",
       "0     50020\n",
       "Name: train_flg, dtype: int64"
      ]
     },
     "execution_count": 73,
     "metadata": {},
     "output_type": "execute_result"
    }
   ],
   "source": [
    "df['train_flg'] = df.issued.apply(lambda x: 0 if x in issued[:3] else 1)\n",
    "df.train_flg.value_counts()"
   ]
  },
  {
   "cell_type": "code",
   "execution_count": 74,
   "metadata": {},
   "outputs": [],
   "source": [
    "df.drop('issued', axis = 1, inplace=True)"
   ]
  },
  {
   "cell_type": "code",
   "execution_count": 75,
   "metadata": {},
   "outputs": [
    {
     "data": {
      "text/plain": [
       "(162570, 71)"
      ]
     },
     "execution_count": 75,
     "metadata": {},
     "output_type": "execute_result"
    }
   ],
   "source": [
    "df.shape"
   ]
  },
  {
   "cell_type": "markdown",
   "metadata": {},
   "source": [
    "## Feature Engineering & Cleaning"
   ]
  },
  {
   "cell_type": "markdown",
   "metadata": {},
   "source": [
    "#### Datetime to numeric feature"
   ]
  },
  {
   "cell_type": "code",
   "execution_count": 76,
   "metadata": {},
   "outputs": [
    {
     "data": {
      "text/plain": [
       "array(['Sep-1989', 'Nov-1992', 'Aug-2002', 'Jan-2001', 'Oct-1998'],\n",
       "      dtype=object)"
      ]
     },
     "execution_count": 76,
     "metadata": {},
     "output_type": "execute_result"
    }
   ],
   "source": [
    "# earliestcrlin： 最早有信用的时间\n",
    "df.earliestcrline.unique()[:5]"
   ]
  },
  {
   "cell_type": "code",
   "execution_count": 29,
   "metadata": {},
   "outputs": [],
   "source": [
    "# convert to number of months to Dec 2014"
   ]
  },
  {
   "cell_type": "code",
   "execution_count": 77,
   "metadata": {},
   "outputs": [],
   "source": [
    "cl_month = df.earliestcrline.apply(lambda x: x.split('-')[0])\n",
    "cl_year = df.earliestcrline.apply(lambda x: int(x.split('-')[1]))"
   ]
  },
  {
   "cell_type": "code",
   "execution_count": 78,
   "metadata": {},
   "outputs": [
    {
     "data": {
      "text/plain": [
       "array(['Sep', 'Nov', 'Aug', 'Jan', 'Oct', 'May', 'Jul', 'Dec', 'Jun',\n",
       "       'Mar', 'Feb', 'Apr'], dtype=object)"
      ]
     },
     "execution_count": 78,
     "metadata": {},
     "output_type": "execute_result"
    }
   ],
   "source": [
    "cl_month.unique()"
   ]
  },
  {
   "cell_type": "code",
   "execution_count": 79,
   "metadata": {},
   "outputs": [
    {
     "data": {
      "text/plain": [
       "array([1989, 1992, 2002, 2001, 1998, 1999, 2009, 2003, 1993, 1995, 1996,\n",
       "       2010, 2006, 2007, 1997, 2004, 1984, 2008, 2011, 2000, 1988, 1994,\n",
       "       1987, 1985, 2005, 1991, 1986, 1973, 1982, 1979, 1974, 1976, 1983,\n",
       "       1981, 1990, 1978, 1980, 1977, 1969, 1971, 1967, 1972, 1968, 1962,\n",
       "       1975, 1965, 1966, 1963, 1970, 1964, 1958, 1955, 1959, 1961, 1960,\n",
       "       1954, 1957, 1949, 1950, 1948, 1953, 1956], dtype=int64)"
      ]
     },
     "execution_count": 79,
     "metadata": {},
     "output_type": "execute_result"
    }
   ],
   "source": [
    "cl_year.unique()"
   ]
  },
  {
   "cell_type": "code",
   "execution_count": 80,
   "metadata": {},
   "outputs": [],
   "source": [
    "dic_month= {'Jan':11,'Feb':10,'Mar':9,'Apr':8, 'May':7, 'Jun':6, 'Jul':5, 'Aug':4, 'Sep':3, 'Oct':2, 'Nov':1, 'Dec':0}\n",
    "\n"
   ]
  },
  {
   "cell_type": "code",
   "execution_count": 81,
   "metadata": {},
   "outputs": [],
   "source": [
    "# 到2014年12月为止，具有信用历史几个月了 2014-1989*12+(12-9)\n",
    "df['earliestcrline_month'] = df.earliestcrline.apply(\n",
    "            lambda x: (2014 - int(x.split('-')[1]))*12 + dic_month[x.split('-')[0]] )\n"
   ]
  },
  {
   "cell_type": "code",
   "execution_count": 82,
   "metadata": {},
   "outputs": [
    {
     "data": {
      "text/plain": [
       "0    Sep-1989\n",
       "2    Nov-1992\n",
       "3    Aug-2002\n",
       "6    Jan-2001\n",
       "7    Oct-1998\n",
       "Name: earliestcrline, dtype: object"
      ]
     },
     "execution_count": 82,
     "metadata": {},
     "output_type": "execute_result"
    }
   ],
   "source": [
    "df.earliestcrline[:5]"
   ]
  },
  {
   "cell_type": "code",
   "execution_count": 83,
   "metadata": {},
   "outputs": [
    {
     "data": {
      "text/plain": [
       "0    303\n",
       "2    265\n",
       "3    148\n",
       "6    167\n",
       "7    194\n",
       "Name: earliestcrline_month, dtype: int64"
      ]
     },
     "execution_count": 83,
     "metadata": {},
     "output_type": "execute_result"
    }
   ],
   "source": [
    "df.earliestcrline_month[:5]"
   ]
  },
  {
   "cell_type": "code",
   "execution_count": 84,
   "metadata": {},
   "outputs": [],
   "source": [
    "num_feature.append('earliestcrline_month')\n",
    "ob_feature.remove('earliestcrline')\n"
   ]
  },
  {
   "cell_type": "code",
   "execution_count": 85,
   "metadata": {},
   "outputs": [
    {
     "name": "stdout",
     "output_type": "stream",
     "text": [
      "12 56\n"
     ]
    }
   ],
   "source": [
    "print (len(ob_feature), len(num_feature))"
   ]
  },
  {
   "cell_type": "code",
   "execution_count": 86,
   "metadata": {},
   "outputs": [],
   "source": [
    "df.drop('earliestcrline', axis = 1, inplace=True)"
   ]
  },
  {
   "cell_type": "code",
   "execution_count": 87,
   "metadata": {},
   "outputs": [
    {
     "data": {
      "text/plain": [
       "(162570, 71)"
      ]
     },
     "execution_count": 87,
     "metadata": {},
     "output_type": "execute_result"
    }
   ],
   "source": [
    "df.shape"
   ]
  },
  {
   "cell_type": "markdown",
   "metadata": {},
   "source": [
    "### emplength to numeric feature"
   ]
  },
  {
   "cell_type": "code",
   "execution_count": 88,
   "metadata": {},
   "outputs": [
    {
     "name": "stdout",
     "output_type": "stream",
     "text": [
      "9646\n"
     ]
    },
    {
     "data": {
      "text/plain": [
       "array(['8 years', '10+ years', '< 1 year', '2 years', '7 years',\n",
       "       '9 years', nan, '5 years', '4 years', '3 years', '1 year',\n",
       "       '6 years'], dtype=object)"
      ]
     },
     "execution_count": 88,
     "metadata": {},
     "output_type": "execute_result"
    }
   ],
   "source": [
    "print (df['emplength'].isnull().sum())\n",
    "df['emplength'].unique()"
   ]
  },
  {
   "cell_type": "code",
   "execution_count": 89,
   "metadata": {},
   "outputs": [
    {
     "data": {
      "text/plain": [
       "array([   8,   10,    0,    2,    7,    9, -999,    5,    4,    3,    1,\n",
       "          6], dtype=int64)"
      ]
     },
     "execution_count": 89,
     "metadata": {},
     "output_type": "execute_result"
    }
   ],
   "source": [
    "df['emplength'].replace('n/a', np.nan, inplace=True) # na - no content，default no job\n",
    "df['emplength'].replace('< 1 year', '0', inplace=True)\n",
    "df['emplength'].replace(to_replace='[^0-9]+', value='', inplace=True, regex=True)\n",
    "df.emplength.fillna(value=-999, inplace=True) # -999想表示空值是一个不好的事情，留空在xgboost也可以\n",
    "df['emplength'] = df['emplength'].astype(int)\n",
    "\n",
    "df['emplength'].unique()"
   ]
  },
  {
   "cell_type": "code",
   "execution_count": 90,
   "metadata": {},
   "outputs": [
    {
     "data": {
      "text/plain": [
       " 10     51146\n",
       " 2      14669\n",
       " 3      13106\n",
       " 0      13056\n",
       " 1      10571\n",
       " 4       9670\n",
       "-999     9646\n",
       " 5       9148\n",
       " 7       8946\n",
       " 6       8205\n",
       " 8       8131\n",
       " 9       6276\n",
       "Name: emplength, dtype: int64"
      ]
     },
     "execution_count": 90,
     "metadata": {},
     "output_type": "execute_result"
    }
   ],
   "source": [
    "df.emplength.value_counts()"
   ]
  },
  {
   "cell_type": "code",
   "execution_count": 91,
   "metadata": {},
   "outputs": [
    {
     "name": "stdout",
     "output_type": "stream",
     "text": [
      "57 11\n"
     ]
    }
   ],
   "source": [
    "num_feature.append('emplength')\n",
    "ob_feature.remove('emplength')\n",
    "print (len(num_feature), len(ob_feature))"
   ]
  },
  {
   "cell_type": "code",
   "execution_count": 92,
   "metadata": {},
   "outputs": [
    {
     "data": {
      "text/plain": [
       "(162570, 71)"
      ]
     },
     "execution_count": 92,
     "metadata": {},
     "output_type": "execute_result"
    }
   ],
   "source": [
    "df.shape"
   ]
  },
  {
   "cell_type": "markdown",
   "metadata": {},
   "source": [
    "## % to numeric feature: intrate, revolutil"
   ]
  },
  {
   "cell_type": "code",
   "execution_count": 93,
   "metadata": {},
   "outputs": [],
   "source": [
    "intrate = df.intrate.apply(lambda x: float(x.replace('%','')))"
   ]
  },
  {
   "cell_type": "code",
   "execution_count": 94,
   "metadata": {},
   "outputs": [
    {
     "data": {
      "text/plain": [
       "0     6.99\n",
       "2    13.66\n",
       "Name: intrate, dtype: float64"
      ]
     },
     "execution_count": 94,
     "metadata": {},
     "output_type": "execute_result"
    }
   ],
   "source": [
    "df.intrate = intrate\n",
    "df.intrate[:2]"
   ]
  },
  {
   "cell_type": "code",
   "execution_count": 95,
   "metadata": {},
   "outputs": [],
   "source": [
    "df.revolutil = pd.Series(df.revolutil).str.replace('%', '').astype(float)"
   ]
  },
  {
   "cell_type": "code",
   "execution_count": 96,
   "metadata": {},
   "outputs": [
    {
     "data": {
      "text/plain": [
       "0    31.6\n",
       "2    59.4\n",
       "Name: revolutil, dtype: float64"
      ]
     },
     "execution_count": 96,
     "metadata": {},
     "output_type": "execute_result"
    }
   ],
   "source": [
    "df.revolutil[:2]"
   ]
  },
  {
   "cell_type": "code",
   "execution_count": 97,
   "metadata": {},
   "outputs": [],
   "source": [
    "ob_feature.remove('intrate')\n",
    "num_feature.append('intrate')\n",
    "ob_feature.remove('revolutil')\n",
    "num_feature.append('revolutil')"
   ]
  },
  {
   "cell_type": "code",
   "execution_count": 98,
   "metadata": {},
   "outputs": [
    {
     "name": "stdout",
     "output_type": "stream",
     "text": [
      "9 59\n"
     ]
    }
   ],
   "source": [
    "print (len(ob_feature), len(num_feature))"
   ]
  },
  {
   "cell_type": "markdown",
   "metadata": {},
   "source": [
    "#### Ordinal feature encoding : grade, subgrade"
   ]
  },
  {
   "cell_type": "code",
   "execution_count": 99,
   "metadata": {},
   "outputs": [],
   "source": [
    "Dic_grade = {\"A\": 1, \n",
    "            \"B\": 2, \n",
    "            \"C\": 3, \n",
    "            \"D\": 4, \n",
    "            \"E\": 5,\n",
    "            \"F\": 6, \n",
    "            \"G\": 7}"
   ]
  },
  {
   "cell_type": "code",
   "execution_count": 100,
   "metadata": {},
   "outputs": [],
   "source": [
    "df.grade = df.grade.map(Dic_grade)"
   ]
  },
  {
   "cell_type": "code",
   "execution_count": 101,
   "metadata": {},
   "outputs": [],
   "source": [
    "df.subgrade = df.subgrade.apply(lambda x: (Dic_grade[x[0]] - 1) * 5 + int(x[1]))"
   ]
  },
  {
   "cell_type": "code",
   "execution_count": 102,
   "metadata": {},
   "outputs": [],
   "source": [
    "ob_feature.remove('grade')\n",
    "num_feature.append('grade')\n",
    "ob_feature.remove('subgrade')\n",
    "num_feature.append('subgrade')"
   ]
  },
  {
   "cell_type": "code",
   "execution_count": 103,
   "metadata": {},
   "outputs": [
    {
     "name": "stdout",
     "output_type": "stream",
     "text": [
      "7 61\n"
     ]
    }
   ],
   "source": [
    "print (len(ob_feature), len(num_feature))"
   ]
  },
  {
   "cell_type": "markdown",
   "metadata": {},
   "source": [
    "### High cardinality feature encoding"
   ]
  },
  {
   "cell_type": "markdown",
   "metadata": {},
   "source": [
    "###### Zip Code - frequency encoding "
   ]
  },
  {
   "cell_type": "code",
   "execution_count": 104,
   "metadata": {},
   "outputs": [
    {
     "name": "stdout",
     "output_type": "stream",
     "text": [
      "854 ['937xx' '077xx' '850xx' '144xx' '982xx']\n"
     ]
    }
   ],
   "source": [
    "print (df.zipcode.nunique(), df.zipcode.unique()[:5])"
   ]
  },
  {
   "cell_type": "code",
   "execution_count": 105,
   "metadata": {},
   "outputs": [],
   "source": [
    "df.zipcode = df.zipcode.apply(lambda x: int(x[0:3]))"
   ]
  },
  {
   "cell_type": "code",
   "execution_count": 106,
   "metadata": {},
   "outputs": [],
   "source": [
    "# 每一个zipcode出现的次数\n",
    "zipcode_freq = df.groupby(\"zipcode\").size().reset_index() "
   ]
  },
  {
   "cell_type": "code",
   "execution_count": 107,
   "metadata": {},
   "outputs": [
    {
     "data": {
      "text/html": [
       "<div>\n",
       "<style scoped>\n",
       "    .dataframe tbody tr th:only-of-type {\n",
       "        vertical-align: middle;\n",
       "    }\n",
       "\n",
       "    .dataframe tbody tr th {\n",
       "        vertical-align: top;\n",
       "    }\n",
       "\n",
       "    .dataframe thead th {\n",
       "        text-align: right;\n",
       "    }\n",
       "</style>\n",
       "<table border=\"1\" class=\"dataframe\">\n",
       "  <thead>\n",
       "    <tr style=\"text-align: right;\">\n",
       "      <th></th>\n",
       "      <th>zipcode</th>\n",
       "      <th>0</th>\n",
       "    </tr>\n",
       "  </thead>\n",
       "  <tbody>\n",
       "    <tr>\n",
       "      <th>0</th>\n",
       "      <td>8</td>\n",
       "      <td>1</td>\n",
       "    </tr>\n",
       "    <tr>\n",
       "      <th>1</th>\n",
       "      <td>10</td>\n",
       "      <td>229</td>\n",
       "    </tr>\n",
       "    <tr>\n",
       "      <th>2</th>\n",
       "      <td>11</td>\n",
       "      <td>66</td>\n",
       "    </tr>\n",
       "    <tr>\n",
       "      <th>3</th>\n",
       "      <td>12</td>\n",
       "      <td>69</td>\n",
       "    </tr>\n",
       "    <tr>\n",
       "      <th>4</th>\n",
       "      <td>13</td>\n",
       "      <td>41</td>\n",
       "    </tr>\n",
       "  </tbody>\n",
       "</table>\n",
       "</div>"
      ],
      "text/plain": [
       "   zipcode    0\n",
       "0        8    1\n",
       "1       10  229\n",
       "2       11   66\n",
       "3       12   69\n",
       "4       13   41"
      ]
     },
     "execution_count": 107,
     "metadata": {},
     "output_type": "execute_result"
    }
   ],
   "source": [
    "zipcode_freq[:5]"
   ]
  },
  {
   "cell_type": "code",
   "execution_count": 108,
   "metadata": {},
   "outputs": [],
   "source": [
    "zipcode_freq.columns = [\"zipcode\", \"zipcode_freq\"]"
   ]
  },
  {
   "cell_type": "code",
   "execution_count": 109,
   "metadata": {},
   "outputs": [],
   "source": [
    "df = pd.merge(df, zipcode_freq, how = \"left\", on = \"zipcode\")"
   ]
  },
  {
   "cell_type": "code",
   "execution_count": 110,
   "metadata": {},
   "outputs": [
    {
     "name": "stdout",
     "output_type": "stream",
     "text": [
      "6 63\n"
     ]
    }
   ],
   "source": [
    "ob_feature.remove('zipcode')\n",
    "num_feature.append('zipcode_freq')\n",
    "num_feature.append('zipcode')\n",
    "print (len(ob_feature), len(num_feature))"
   ]
  },
  {
   "cell_type": "markdown",
   "metadata": {},
   "source": [
    "### emptitle-frequency encoding (can do some NLP for later stage)"
   ]
  },
  {
   "cell_type": "code",
   "execution_count": 111,
   "metadata": {},
   "outputs": [],
   "source": [
    "\n",
    "emptitle_freq = df.groupby(\"emptitle\").size().reset_index()\n",
    "emptitle_freq.columns = [\"emptitle\", \"emptitle_freq\"]\n",
    "df = pd.merge(df, emptitle_freq, how = \"left\", on = \"emptitle\")\n"
   ]
  },
  {
   "cell_type": "code",
   "execution_count": 112,
   "metadata": {},
   "outputs": [],
   "source": [
    "df.drop(\"emptitle\", axis = 1, inplace=True)"
   ]
  },
  {
   "cell_type": "code",
   "execution_count": 113,
   "metadata": {},
   "outputs": [
    {
     "name": "stdout",
     "output_type": "stream",
     "text": [
      "5 64\n"
     ]
    }
   ],
   "source": [
    "ob_feature.remove('emptitle')\n",
    "num_feature.append('emptitle_freq')\n",
    "print (len(ob_feature), len(num_feature))"
   ]
  },
  {
   "cell_type": "markdown",
   "metadata": {},
   "source": [
    "###### Addr_state - frequency encoding"
   ]
  },
  {
   "cell_type": "code",
   "execution_count": 114,
   "metadata": {},
   "outputs": [],
   "source": [
    "addrstate_freq = df.groupby(\"addrstate\").size().reset_index()\n",
    "addrstate_freq.columns = [\"addrstate\", \"addrstate_freq\"]\n",
    "df = pd.merge(df, addrstate_freq, how = \"left\", on = \"addrstate\")\n"
   ]
  },
  {
   "cell_type": "code",
   "execution_count": 115,
   "metadata": {},
   "outputs": [],
   "source": [
    "df.drop(\"addrstate\", axis = 1, inplace=True)"
   ]
  },
  {
   "cell_type": "code",
   "execution_count": 116,
   "metadata": {},
   "outputs": [
    {
     "name": "stdout",
     "output_type": "stream",
     "text": [
      "4 65\n"
     ]
    }
   ],
   "source": [
    "ob_feature.remove('addrstate')\n",
    "num_feature.append('addrestate_freq')\n",
    "print (len(ob_feature), len(num_feature))"
   ]
  },
  {
   "cell_type": "markdown",
   "metadata": {},
   "source": [
    "#### One hot encoding"
   ]
  },
  {
   "cell_type": "code",
   "execution_count": 117,
   "metadata": {},
   "outputs": [],
   "source": [
    "\n",
    "dummy_feature = [\"homeownership\", \"verificationstatus\", \"purpose\", \"initialliststatus\"]"
   ]
  },
  {
   "cell_type": "code",
   "execution_count": 118,
   "metadata": {},
   "outputs": [],
   "source": [
    "df_dummy = pd.get_dummies(df[dummy_feature])\n"
   ]
  },
  {
   "cell_type": "code",
   "execution_count": 119,
   "metadata": {},
   "outputs": [
    {
     "data": {
      "text/plain": [
       "(162570, 22)"
      ]
     },
     "execution_count": 119,
     "metadata": {},
     "output_type": "execute_result"
    }
   ],
   "source": [
    "df_dummy.shape"
   ]
  },
  {
   "cell_type": "code",
   "execution_count": 120,
   "metadata": {},
   "outputs": [],
   "source": [
    "df = pd.concat([df,df_dummy], axis=1 )"
   ]
  },
  {
   "cell_type": "code",
   "execution_count": 121,
   "metadata": {},
   "outputs": [
    {
     "data": {
      "text/plain": [
       "(162570, 94)"
      ]
     },
     "execution_count": 121,
     "metadata": {},
     "output_type": "execute_result"
    }
   ],
   "source": [
    "df.shape"
   ]
  },
  {
   "cell_type": "code",
   "execution_count": 122,
   "metadata": {},
   "outputs": [],
   "source": [
    "df.drop(dummy_feature, axis = 1, inplace=True)"
   ]
  },
  {
   "cell_type": "code",
   "execution_count": 123,
   "metadata": {},
   "outputs": [
    {
     "data": {
      "text/plain": [
       "(162570, 90)"
      ]
     },
     "execution_count": 123,
     "metadata": {},
     "output_type": "execute_result"
    }
   ],
   "source": [
    "df.shape"
   ]
  },
  {
   "cell_type": "markdown",
   "metadata": {},
   "source": [
    "## Feature Explore and Visualization"
   ]
  },
  {
   "cell_type": "markdown",
   "metadata": {},
   "source": [
    "### dti - Debt Income Ratio\n",
    "A ratio calculated using the borrower’s total monthly debt payments on the total debt obligations, excluding mortgage and the requested LC loan, divided by the borrower’s self-reported monthly income.每个月要付的债务额与每个月的税前收入的比例 <br>\n",
    "dti越高越容易坏帐"
   ]
  },
  {
   "cell_type": "code",
   "execution_count": 235,
   "metadata": {},
   "outputs": [
    {
     "data": {
      "text/plain": [
       "[(8.0, 16.0], (24.0, 32.0], (32.0, 40.0], (16.0, 24.0], (-0.0, 8.0]]\n",
       "Categories (5, interval[float64]): [(-0.0, 8.0] < (8.0, 16.0] < (16.0, 24.0] < (24.0, 32.0] < (32.0, 40.0]]"
      ]
     },
     "execution_count": 235,
     "metadata": {},
     "output_type": "execute_result"
    }
   ],
   "source": [
    "df['bin_dti'] = pd.cut(df.dti, bins=5,precision=0) #precision : bins小数精度，也就是数据以几位小数显示\n",
    "df['bin_dti'].unique()"
   ]
  },
  {
   "cell_type": "code",
   "execution_count": null,
   "metadata": {},
   "outputs": [],
   "source": [
    "sns.set_style('whitegrid')"
   ]
  },
  {
   "cell_type": "code",
   "execution_count": 209,
   "metadata": {},
   "outputs": [
    {
     "data": {
      "text/plain": [
       "<matplotlib.axes._subplots.AxesSubplot at 0x20aca059630>"
      ]
     },
     "execution_count": 209,
     "metadata": {},
     "output_type": "execute_result"
    },
    {
     "data": {
      "image/png": "[encoded data removed]",
      "text/plain": [
       "<Figure size 432x288 with 1 Axes>"
      ]
     },
     "metadata": {},
     "output_type": "display_data"
    }
   ],
   "source": [
    "sns.barplot(x='bin_dti',\n",
    "           y ='loanstatus',\n",
    "           data=df,\n",
    "           palette=sns.color_palette('Blues'))"
   ]
  },
  {
   "cell_type": "markdown",
   "metadata": {},
   "source": [
    "### grade and subgrade"
   ]
  },
  {
   "cell_type": "code",
   "execution_count": 211,
   "metadata": {},
   "outputs": [
    {
     "data": {
      "text/plain": [
       "<matplotlib.axes._subplots.AxesSubplot at 0x20ae8e58978>"
      ]
     },
     "execution_count": 211,
     "metadata": {},
     "output_type": "execute_result"
    },
    {
     "data": {
      "image/png": "[encoded data removed]",
      "text/plain": [
       "<Figure size 432x288 with 1 Axes>"
      ]
     },
     "metadata": {},
     "output_type": "display_data"
    }
   ],
   "source": [
    "sns.barplot(x='grade',\n",
    "            y ='loanstatus',\n",
    "           data = df,\n",
    "           palette = sns.color_palette('Set2'))"
   ]
  },
  {
   "cell_type": "code",
   "execution_count": 216,
   "metadata": {},
   "outputs": [
    {
     "data": {
      "text/plain": [
       "<matplotlib.axes._subplots.AxesSubplot at 0x20ab5631f28>"
      ]
     },
     "execution_count": 216,
     "metadata": {},
     "output_type": "execute_result"
    },
    {
     "data": {
      "image/png": "[encoded data removed]",
      "text/plain": [
       "<Figure size 1080x432 with 1 Axes>"
      ]
     },
     "metadata": {},
     "output_type": "display_data"
    }
   ],
   "source": [
    "plt.figure(figsize=(15,6))\n",
    "sns.barplot(x='subgrade',\n",
    "            y ='loanstatus',\n",
    "           data = df,\n",
    "           palette = sns.color_palette('Set2'))"
   ]
  },
  {
   "cell_type": "markdown",
   "metadata": {},
   "source": [
    "### Installment\n",
    "The monthly payment owed by the borrower if the loan originates."
   ]
  },
  {
   "cell_type": "code",
   "execution_count": 218,
   "metadata": {},
   "outputs": [],
   "source": [
    "df['bin_installment'] = pd.cut(df.installment,bins=5,precision=2)\n"
   ]
  },
  {
   "cell_type": "code",
   "execution_count": 221,
   "metadata": {},
   "outputs": [
    {
     "data": {
      "text/plain": [
       "(array([0, 1, 2, 3, 4]), <a list of 5 Text xticklabel objects>)"
      ]
     },
     "execution_count": 221,
     "metadata": {},
     "output_type": "execute_result"
    },
    {
     "data": {
      "image/png": "[encoded data removed]",
      "text/plain": [
       "<Figure size 432x288 with 1 Axes>"
      ]
     },
     "metadata": {},
     "output_type": "display_data"
    }
   ],
   "source": [
    "sns.barplot(x='bin_installment',\n",
    "           y='loanstatus',\n",
    "            data=df,\n",
    "           palette = sns.color_palette('BrBG'))\n",
    "plt.xticks(rotation=30)"
   ]
  },
  {
   "cell_type": "markdown",
   "metadata": {},
   "source": [
    "### annualinc - Annual income\n",
    "The self-reported annual income provided by the borrower during registration <br>\n",
    "收入越低越容易坏帐"
   ]
  },
  {
   "cell_type": "code",
   "execution_count": 223,
   "metadata": {},
   "outputs": [
    {
     "name": "stdout",
     "output_type": "stream",
     "text": [
      "3000.0 7500000.0\n"
     ]
    }
   ],
   "source": [
    "print(min(df.annualinc),max(df.annualinc))\n",
    "df['bin_annualinc'] = pd.cut(df.annualinc, bins=[0, 25000, 50000, 75000, 100000, 125000, 150000, \\\n",
    "                                                 175000, 200000, max(df.annualinc)], precision=0)"
   ]
  },
  {
   "cell_type": "code",
   "execution_count": 226,
   "metadata": {},
   "outputs": [
    {
     "data": {
      "text/plain": [
       "<matplotlib.axes._subplots.AxesSubplot at 0x20ae7833c18>"
      ]
     },
     "execution_count": 226,
     "metadata": {},
     "output_type": "execute_result"
    },
    {
     "data": {
      "image/png": "[encoded data removed]",
      "text/plain": [
       "<Figure size 432x288 with 1 Axes>"
      ]
     },
     "metadata": {},
     "output_type": "display_data"
    }
   ],
   "source": [
    "sns.violinplot(x='annualinc',\n",
    "              data=df[df['annualinc'] <400000]\n",
    "              )"
   ]
  },
  {
   "cell_type": "code",
   "execution_count": 233,
   "metadata": {},
   "outputs": [
    {
     "data": {
      "text/plain": [
       "[Text(0,0,'<25k'),\n",
       " Text(0,0,'25-50k'),\n",
       " Text(0,0,'50-75k'),\n",
       " Text(0,0,'75-100k'),\n",
       " Text(0,0,'100-125k'),\n",
       " Text(0,0,'125-150k'),\n",
       " Text(0,0,'150-175k'),\n",
       " Text(0,0,'175-200k'),\n",
       " Text(0,0,'>200k')]"
      ]
     },
     "execution_count": 233,
     "metadata": {},
     "output_type": "execute_result"
    },
    {
     "data": {
      "image/png": "[encoded data removed]",
      "text/plain": [
       "<Figure size 720x360 with 1 Axes>"
      ]
     },
     "metadata": {},
     "output_type": "display_data"
    }
   ],
   "source": [
    "plt.figure(figsize=(10,5))\n",
    "fig = sns.barplot(x='bin_annualinc', y= 'loanstatus', data = df, palette=sns.color_palette(\"GnBu_d\", 10))\n",
    "\n",
    "fig.set_xticklabels(labels=['<25k', '25-50k', '50-75k', '75-100k', '100-125k', '125-150k',\\\n",
    "                            '150-175k', '175-200k', '>200k'], rotation = 30)"
   ]
  },
  {
   "cell_type": "markdown",
   "metadata": {},
   "source": [
    "### Intrate - Interest Rate\n",
    "利率越高越容易坏帐"
   ]
  },
  {
   "cell_type": "code",
   "execution_count": 234,
   "metadata": {},
   "outputs": [],
   "source": [
    "df['bin_intrate'] = pd.cut(df.intrate, bins=5, precision=2)"
   ]
  },
  {
   "cell_type": "code",
   "execution_count": 236,
   "metadata": {},
   "outputs": [
    {
     "data": {
      "text/plain": [
       "<matplotlib.axes._subplots.AxesSubplot at 0x20ae0cd43c8>"
      ]
     },
     "execution_count": 236,
     "metadata": {},
     "output_type": "execute_result"
    },
    {
     "data": {
      "image/png": "[encoded data removed]",
      "text/plain": [
       "<Figure size 432x288 with 1 Axes>"
      ]
     },
     "metadata": {},
     "output_type": "display_data"
    }
   ],
   "source": [
    "sns.barplot(x='bin_intrate',\n",
    "            y= 'loanstatus', \n",
    "            data = df, \n",
    "            palette=sns.color_palette(\"YlGnBu\")\n",
    "           )"
   ]
  },
  {
   "cell_type": "code",
   "execution_count": 240,
   "metadata": {},
   "outputs": [
    {
     "data": {
      "text/plain": [
       "0.0"
      ]
     },
     "execution_count": 240,
     "metadata": {},
     "output_type": "execute_result"
    }
   ],
   "source": [
    "min(df.accopenpast24mths)"
   ]
  },
  {
   "cell_type": "markdown",
   "metadata": {},
   "source": [
    "### accopenpast24mths\n",
    "number of accounts opened in past 24 months"
   ]
  },
  {
   "cell_type": "code",
   "execution_count": 243,
   "metadata": {},
   "outputs": [
    {
     "data": {
      "text/plain": [
       "[(-0.1, 11.0], (11.0, 21.0], (21.0, 32.0], (32.0, 42.0], (42.0, 53.0]]\n",
       "Categories (5, interval[float64]): [(-0.1, 11.0] < (11.0, 21.0] < (21.0, 32.0] < (32.0, 42.0] < (42.0, 53.0]]"
      ]
     },
     "execution_count": 243,
     "metadata": {},
     "output_type": "execute_result"
    }
   ],
   "source": [
    "df['bin_accopenpast24mths'] = pd.cut(df.accopenpast24mths, bins=5, precision=0)\n",
    "df['bin_accopenpast24mths'].unique()"
   ]
  },
  {
   "cell_type": "code",
   "execution_count": 244,
   "metadata": {},
   "outputs": [
    {
     "data": {
      "text/plain": [
       "<matplotlib.axes._subplots.AxesSubplot at 0x20af0a13668>"
      ]
     },
     "execution_count": 244,
     "metadata": {},
     "output_type": "execute_result"
    },
    {
     "data": {
      "image/png": "[encoded data removed]",
      "text/plain": [
       "<Figure size 432x288 with 1 Axes>"
      ]
     },
     "metadata": {},
     "output_type": "display_data"
    }
   ],
   "source": [
    "sns.barplot(x='bin_accopenpast24mths',\n",
    "            y= 'loanstatus', \n",
    "            data = df, \n",
    "            palette=sns.color_palette(\"YlGnBu\")\n",
    "           )"
   ]
  },
  {
   "cell_type": "markdown",
   "metadata": {},
   "source": [
    "##  Train Model\n"
   ]
  },
  {
   "cell_type": "code",
   "execution_count": 124,
   "metadata": {},
   "outputs": [
    {
     "name": "stdout",
     "output_type": "stream",
     "text": [
      "['zipcode', 'revolutil', 'intrate', 'grade', 'subgrade', 'emplength', 'avgcurbal', 'numrevaccts', 'mortacc', 'numactvrevtl', 'totalilhighcreditlimit', 'numiltl', 'mthssincelastdelinq', 'totalacc', 'revolbal', 'numacctsever120pd', 'pcttlnvrdlq', 'numtl30dpd', 'percentbcgt75', 'numoprevtl', 'bcutil', 'numactvbctl', 'bcopentobuy', 'totalrevhilim', 'numrevtlbalgt0', 'mthssincerecentrevoldelinq', 'tothicredlim', 'numtl90gdpd24m', 'mthssincerecentinq', 'numbcsats', 'installment', 'totalbclimit', 'mosinoldrevtlop', 'numsats', 'inqlast6mths', 'mthssincerecentbc', 'mosinrcnttl', 'loanamnt', 'mthssincerecentbcdlq', 'totalbalexmort', 'numbctl', 'openacc', 'dti', 'totcollamt', 'numtloppast12m', 'annualinc', 'totcurbal', 'accnowdelinq', 'pubrecbankruptcies', 'chargeoffwithin12mths', 'collections12mthsexmed', 'numtl120dpd2m', 'accopenpast24mths', 'mthssincelastrecord', 'taxliens', 'mosinoldilacct', 'delinq2yrs', 'mosinrcntrevtlop', 'pubrec', 'delinqamnt', 'mthssincelastmajorderog', 'id', 'loanstatus', 'train_flg', 'earliestcrline_month', 'zipcode_freq', 'emptitle_freq', 'addrstate_freq', 'homeownership_ANY', 'homeownership_MORTGAGE', 'homeownership_OWN', 'homeownership_RENT', 'verificationstatus_Not Verified', 'verificationstatus_Source Verified', 'verificationstatus_Verified', 'purpose_car', 'purpose_credit_card', 'purpose_debt_consolidation', 'purpose_home_improvement', 'purpose_house', 'purpose_major_purchase', 'purpose_medical', 'purpose_moving', 'purpose_other', 'purpose_renewable_energy', 'purpose_small_business', 'purpose_vacation', 'purpose_wedding', 'initialliststatus_f', 'initialliststatus_w']\n"
     ]
    }
   ],
   "source": [
    "feat = list(df.columns.values)\n",
    "print (feat)"
   ]
  },
  {
   "cell_type": "code",
   "execution_count": 125,
   "metadata": {},
   "outputs": [],
   "source": [
    "feat.remove('id')\n",
    "feat.remove('loanstatus')\n",
    "feat.remove('train_flg')"
   ]
  },
  {
   "cell_type": "markdown",
   "metadata": {},
   "source": [
    "### XGBoost - Manually tuning based on stratified train-test split"
   ]
  },
  {
   "cell_type": "code",
   "execution_count": 126,
   "metadata": {},
   "outputs": [
    {
     "name": "stderr",
     "output_type": "stream",
     "text": [
      "C:\\Users\\chloe.song\\AppData\\Local\\Continuum\\anaconda3\\lib\\site-packages\\sklearn\\cross_validation.py:41: DeprecationWarning: This module was deprecated in version 0.18 in favor of the model_selection module into which all the refactored classes and functions are moved. Also note that the interface of the new CV iterators are different from that of this module. This module will be removed in 0.20.\n",
      "  \"This module will be removed in 0.20.\", DeprecationWarning)\n"
     ]
    }
   ],
   "source": [
    "from sklearn.cross_validation import StratifiedKFold\n",
    "from sklearn.cross_validation import train_test_split\n",
    "#Kfolds = StratifiedKFold(df_all['loan_status'], n_folds = 3, shuffle=True, random_state=2019)"
   ]
  },
  {
   "cell_type": "code",
   "execution_count": 127,
   "metadata": {},
   "outputs": [],
   "source": [
    "df_train = df.query(\"train_flg == 1\")\n",
    "df_test  = df.query(\"train_flg == 0\" )\n",
    "\n",
    "print (df_train.shape, df_test.shape)"
   ]
  },
  {
   "cell_type": "code",
   "execution_count": 129,
   "metadata": {},
   "outputs": [],
   "source": [
    "# 随机划分训练集和验证集\n",
    "X_train, X_valid, y_train, y_valid = train_test_split(df_train[feat], df_train.loanstatus, \n",
    "                                                      test_size=0.3, \n",
    "                                                      random_state=2016, \n",
    "                                                      stratify = df_train.loanstatus )\n",
    "#stratify：依据标签y，按原数据y中各类比例，分配给train和test，使得train和test中各类数据的比例与原数据集一样\n",
    "\n",
    "print (X_train.shape, X_valid.shape, y_train.shape, y_valid.shape )"
   ]
  },
  {
   "cell_type": "code",
   "execution_count": 130,
   "metadata": {},
   "outputs": [],
   "source": [
    "X_test, y_test = df_test[feat], df_test.loanstatus"
   ]
  },
  {
   "cell_type": "code",
   "execution_count": 131,
   "metadata": {},
   "outputs": [],
   "source": [
    "dtrain = xgb.DMatrix(X_train, y_train, missing = np.NAN)\n",
    "dvalid = xgb.DMatrix(X_valid, y_valid, missing = np.NAN)\n",
    "dtest = xgb.DMatrix(X_test, y_test, missing = np.NAN)"
   ]
  },
  {
   "cell_type": "code",
   "execution_count": null,
   "metadata": {},
   "outputs": [],
   "source": [
    "params = {\"objective\": \"binary:logistic\", \n",
    "          \"booster\" : \"gbtree\", \n",
    "          \"eta\": 0.05, \n",
    "          \"max_depth\": 6, \n",
    "          \"subsample\": 0.632, \n",
    "          \"colsample_bytree\": 0.7,\n",
    "          #\"colsample_bylevel\": 0.6,\n",
    "          \"silent\": 1, \n",
    "          \"seed\": 1441, \n",
    "          \"eval_metric\": \"auc\",\n",
    "          #\"gamma\": 1, \n",
    "          \"min_child_weight\": 5} \n",
    "\n",
    "\n",
    "watchlist = [(dtrain, 'train'), (dvalid, 'eval')]\n",
    "num_boost_round = 1500\n",
    "\n",
    "gbm = xgb.train(params, \n",
    "                dtrain, \n",
    "                num_boost_round, \n",
    "                evals = watchlist,\n",
    "                early_stopping_rounds = 50)\n"
   ]
  },
  {
   "cell_type": "code",
   "execution_count": 181,
   "metadata": {},
   "outputs": [],
   "source": [
    "from sklearn.metrics import roc_curve, auc\n",
    "from sklearn import linear_model, datasets\n",
    "import pylab as pl\n",
    "\n",
    "def draw_ROC(model, dtrain, dvalid, dtest, y_train, y_valid, y_test ):\n",
    "    \n",
    "    probas_0 = model.predict(dvalid, ntree_limit = model.best_ntree_limit)\n",
    "    probas_1 = model.predict(dtrain, ntree_limit = model.best_ntree_limit)\n",
    "    probas_2 = model.predict(dtest, ntree_limit = model.best_ntree_limit)\n",
    "       \n",
    "    # X-axis: fpr = 1- sensitivity  = FP/(FP+TN)\n",
    "    # Y-axis: tpr = sensitivity = recall = TP/(TP+FN)\n",
    "    fpr_0, tpr_0, thresholds_0 = roc_curve(y_valid, probas_0) \n",
    "    fpr_1, tpr_1, thresholds_1 = roc_curve(y_train, probas_1) \n",
    "    fpr_2, tpr_2, thresholds_2 = roc_curve(y_test, probas_2)\n",
    "    \n",
    "    roc_auc_0 = auc(fpr_0, tpr_0)\n",
    "    roc_auc_1 = auc(fpr_1, tpr_1)\n",
    "    roc_auc_2 = auc(fpr_2, tpr_2)\n",
    "    \n",
    "    idx_0 = tpr_0 - fpr_0 # idx越大 => tpr越大，fpr越小，curve越靠近左上角\n",
    "    idx_1 = tpr_1 - fpr_1\n",
    "    idx_2 = tpr_2 - fpr_2\n",
    "    \n",
    "    print (\"Area under the ROC curve - validation: %f\" % roc_auc_0)\n",
    "    print (\"Area under the ROC curve - train: %f\" % roc_auc_1)\n",
    "    print (\"Area under the ROC curve - test: %f\" % roc_auc_2)\n",
    "    \n",
    "    # Plot ROC curve\n",
    "    plt.figure(figsize =(8,8))\n",
    "    plt.plot(fpr_0, tpr_0, label ='ROC curve - validation(AUC = %0.2f)' % roc_auc_0, color='r')\n",
    "    plt.plot(fpr_1, tpr_1, label ='ROC curve - train (AUC = %0.2f)' % roc_auc_1, color='b')\n",
    "    plt.plot(fpr_2, tpr_2, label ='ROC curve - test (AUC = %0.2f)' % roc_auc_2, color='g')\n",
    "    plt.plot([0, 1], [0, 1], 'k--')\n",
    "    plt.xlim([0.0, 1.0])\n",
    "    plt.ylim([0.0, 1.0])\n",
    "    plt.xlabel('False Positive Rate')\n",
    "    plt.ylabel('True Positive Rate')\n",
    "    plt.title('ROC for lead score model')\n",
    "    plt.legend(loc=\"lower right\")\n",
    "    #plt.show()\n",
    "    \n",
    "    return (idx_0, thresholds_0, idx_1, thresholds_1, idx_2, thresholds_2)"
   ]
  },
  {
   "cell_type": "markdown",
   "metadata": {},
   "source": [
    "### ROC curve"
   ]
  },
  {
   "cell_type": "code",
   "execution_count": 158,
   "metadata": {
    "scrolled": true
   },
   "outputs": [
    {
     "name": "stdout",
     "output_type": "stream",
     "text": [
      "Area under the ROC curve - validation: 0.691724\n",
      "Area under the ROC curve - train: 0.787151\n",
      "Area under the ROC curve - test: 0.694320\n"
     ]
    },
    {
     "data": {
      "image/png": "[encoded data removed]",
      "text/plain": [
       "<Figure size 576x576 with 1 Axes>"
      ]
     },
     "metadata": {},
     "output_type": "display_data"
    }
   ],
   "source": [
    "draw_ROC(gbm, dtrain, dvalid, dtest, y_train, y_valid, y_test)\n",
    "plt.savefig('roc_xgb_first_train.png')\n",
    "plt.show()"
   ]
  },
  {
   "cell_type": "markdown",
   "metadata": {},
   "source": [
    "不调参的话交叉验证AUC均值如图，算是一个不错的模型，那么如果用bayes调参结果会怎么样呢？↓\n"
   ]
  },
  {
   "cell_type": "markdown",
   "metadata": {},
   "source": [
    "### Distribution of predicted values"
   ]
  },
  {
   "cell_type": "code",
   "execution_count": 143,
   "metadata": {},
   "outputs": [],
   "source": [
    "y_pred = gbm.predict(dtest) # gbm: gradient boosting machine"
   ]
  },
  {
   "cell_type": "code",
   "execution_count": 144,
   "metadata": {},
   "outputs": [
    {
     "name": "stdout",
     "output_type": "stream",
     "text": [
      "0.7259395 0.0065694503 0.1352567\n"
     ]
    }
   ],
   "source": [
    "print (y_pred.max(), y_pred.min(), y_pred.mean())\n",
    "\n",
    "# 就算是你觉得好到板上钉钉的贷款， 它的风险率是0.9%；很不好的贷款，它的风险率是76.3%"
   ]
  },
  {
   "cell_type": "markdown",
   "metadata": {},
   "source": [
    "### Feature importance"
   ]
  },
  {
   "cell_type": "code",
   "execution_count": 145,
   "metadata": {},
   "outputs": [
    {
     "data": {
      "text/plain": [
       "{'grade': 48,\n",
       " 'subgrade': 134,\n",
       " 'dti': 416,\n",
       " 'mosinoldilacct': 315,\n",
       " 'annualinc': 331,\n",
       " 'accopenpast24mths': 220,\n",
       " 'emplength': 161,\n",
       " 'numbctl': 102,\n",
       " 'numactvbctl': 61,\n",
       " 'mthssincelastdelinq': 215,\n",
       " 'installment': 347,\n",
       " 'totalrevhilim': 203,\n",
       " 'mthssincelastmajorderog': 133,\n",
       " 'mthssincerecentbc': 282,\n",
       " 'mortacc': 68,\n",
       " 'avgcurbal': 234,\n",
       " 'mosinrcnttl': 135,\n",
       " 'zipcode_freq': 222,\n",
       " 'totcollamt': 88,\n",
       " 'emptitle_freq': 279,\n",
       " 'bcopentobuy': 264,\n",
       " 'totalbclimit': 256,\n",
       " 'verificationstatus_Not Verified': 14,\n",
       " 'homeownership_RENT': 41,\n",
       " 'mthssincerecentinq': 192,\n",
       " 'intrate': 233,\n",
       " 'numrevtlbalgt0': 60,\n",
       " 'mthssincerecentrevoldelinq': 136,\n",
       " 'totalacc': 125,\n",
       " 'numsats': 90,\n",
       " 'revolutil': 247,\n",
       " 'addrstate_freq': 157,\n",
       " 'mosinoldrevtlop': 288,\n",
       " 'pcttlnvrdlq': 152,\n",
       " 'earliestcrline_month': 273,\n",
       " 'mosinrcntrevtlop': 123,\n",
       " 'mthssincerecentbcdlq': 148,\n",
       " 'numtloppast12m': 94,\n",
       " 'percentbcgt75': 142,\n",
       " 'numoprevtl': 73,\n",
       " 'mthssincelastrecord': 178,\n",
       " 'totalbalexmort': 201,\n",
       " 'homeownership_MORTGAGE': 18,\n",
       " 'zipcode': 257,\n",
       " 'numiltl': 132,\n",
       " 'bcutil': 258,\n",
       " 'loanamnt': 167,\n",
       " 'totcurbal': 188,\n",
       " 'delinq2yrs': 40,\n",
       " 'totalilhighcreditlimit': 205,\n",
       " 'numactvrevtl': 52,\n",
       " 'revolbal': 224,\n",
       " 'tothicredlim': 275,\n",
       " 'numacctsever120pd': 24,\n",
       " 'inqlast6mths': 62,\n",
       " 'purpose_other': 8,\n",
       " 'verificationstatus_Source Verified': 22,\n",
       " 'purpose_car': 1,\n",
       " 'numbcsats': 54,\n",
       " 'purpose_small_business': 20,\n",
       " 'openacc': 56,\n",
       " 'numrevaccts': 117,\n",
       " 'purpose_medical': 12,\n",
       " 'purpose_debt_consolidation': 27,\n",
       " 'purpose_credit_card': 12,\n",
       " 'pubrecbankruptcies': 6,\n",
       " 'numtl120dpd2m': 2,\n",
       " 'initialliststatus_f': 21,\n",
       " 'numtl90gdpd24m': 1,\n",
       " 'initialliststatus_w': 5,\n",
       " 'pubrec': 5,\n",
       " 'homeownership_OWN': 12,\n",
       " 'purpose_home_improvement': 6,\n",
       " 'verificationstatus_Verified': 13,\n",
       " 'taxliens': 8,\n",
       " 'chargeoffwithin12mths': 3,\n",
       " 'purpose_moving': 4,\n",
       " 'accnowdelinq': 1,\n",
       " 'collections12mthsexmed': 1,\n",
       " 'purpose_major_purchase': 2}"
      ]
     },
     "execution_count": 145,
     "metadata": {},
     "output_type": "execute_result"
    }
   ],
   "source": [
    "# xgboost的sklearn包没有feature_importance这个量度，但是get_fscore()函数有相同的功能\n",
    "importance = gbm.get_fscore()\n",
    "importance"
   ]
  },
  {
   "cell_type": "code",
   "execution_count": 147,
   "metadata": {
    "scrolled": false
   },
   "outputs": [
    {
     "data": {
      "text/html": [
       "<div>\n",
       "<style scoped>\n",
       "    .dataframe tbody tr th:only-of-type {\n",
       "        vertical-align: middle;\n",
       "    }\n",
       "\n",
       "    .dataframe tbody tr th {\n",
       "        vertical-align: top;\n",
       "    }\n",
       "\n",
       "    .dataframe thead th {\n",
       "        text-align: right;\n",
       "    }\n",
       "</style>\n",
       "<table border=\"1\" class=\"dataframe\">\n",
       "  <thead>\n",
       "    <tr style=\"text-align: right;\">\n",
       "      <th></th>\n",
       "      <th>feature</th>\n",
       "      <th>fscore</th>\n",
       "    </tr>\n",
       "  </thead>\n",
       "  <tbody>\n",
       "    <tr>\n",
       "      <th>2</th>\n",
       "      <td>dti</td>\n",
       "      <td>0.042440</td>\n",
       "    </tr>\n",
       "    <tr>\n",
       "      <th>10</th>\n",
       "      <td>installment</td>\n",
       "      <td>0.035401</td>\n",
       "    </tr>\n",
       "    <tr>\n",
       "      <th>4</th>\n",
       "      <td>annualinc</td>\n",
       "      <td>0.033769</td>\n",
       "    </tr>\n",
       "    <tr>\n",
       "      <th>3</th>\n",
       "      <td>mosinoldilacct</td>\n",
       "      <td>0.032136</td>\n",
       "    </tr>\n",
       "    <tr>\n",
       "      <th>32</th>\n",
       "      <td>mosinoldrevtlop</td>\n",
       "      <td>0.029382</td>\n",
       "    </tr>\n",
       "    <tr>\n",
       "      <th>13</th>\n",
       "      <td>mthssincerecentbc</td>\n",
       "      <td>0.028770</td>\n",
       "    </tr>\n",
       "    <tr>\n",
       "      <th>19</th>\n",
       "      <td>emptitle_freq</td>\n",
       "      <td>0.028464</td>\n",
       "    </tr>\n",
       "    <tr>\n",
       "      <th>52</th>\n",
       "      <td>tothicredlim</td>\n",
       "      <td>0.028055</td>\n",
       "    </tr>\n",
       "    <tr>\n",
       "      <th>34</th>\n",
       "      <td>earliestcrline_month</td>\n",
       "      <td>0.027851</td>\n",
       "    </tr>\n",
       "    <tr>\n",
       "      <th>20</th>\n",
       "      <td>bcopentobuy</td>\n",
       "      <td>0.026933</td>\n",
       "    </tr>\n",
       "  </tbody>\n",
       "</table>\n",
       "</div>"
      ],
      "text/plain": [
       "                 feature    fscore\n",
       "2                    dti  0.042440\n",
       "10           installment  0.035401\n",
       "4              annualinc  0.033769\n",
       "3         mosinoldilacct  0.032136\n",
       "32       mosinoldrevtlop  0.029382\n",
       "13     mthssincerecentbc  0.028770\n",
       "19         emptitle_freq  0.028464\n",
       "52          tothicredlim  0.028055\n",
       "34  earliestcrline_month  0.027851\n",
       "20           bcopentobuy  0.026933"
      ]
     },
     "execution_count": 147,
     "metadata": {},
     "output_type": "execute_result"
    }
   ],
   "source": [
    "# F-score = ( 2 * precision*recall) /(precision + recall)\n",
    "\n",
    "df_importance = pd.DataFrame.from_dict(importance,orient='index').reset_index()\n",
    "df_importance.rename({0:'fscore','index':'feature'},axis=1,inplace=True)\n",
    "df_importance['fscore'] = df_importance['fscore'] / df_importance['fscore'].sum()\n",
    "\n",
    "df_importance.head(10)"
   ]
  },
  {
   "cell_type": "code",
   "execution_count": 176,
   "metadata": {},
   "outputs": [
    {
     "data": {
      "text/plain": [
       "<Figure size 2304x2304 with 0 Axes>"
      ]
     },
     "metadata": {},
     "output_type": "display_data"
    },
    {
     "data": {
      "image/png": "[encoded data removed]",
      "text/plain": [
       "<Figure size 720x720 with 1 Axes>"
      ]
     },
     "metadata": {},
     "output_type": "display_data"
    }
   ],
   "source": [
    "plt.figure(figsize=(32, 32))\n",
    "\n",
    "df_importance[:10].sort_values(by='fscore').plot(kind='barh', x='feature', y='fscore', legend=False, figsize=(10, 10))\n",
    "plt.tick_params(labelsize = 12)\n",
    "plt.xlabel('Relative Importance', fontsize = 12)\n",
    "plt.ylabel('Feature Name', fontsize = 12)\n",
    "\n",
    "plt.title('XGBoost Feature Importance',fontsize = 16)\n",
    "plt.gcf().savefig('feature_importance_xgb.png')"
   ]
  },
  {
   "cell_type": "code",
   "execution_count": 149,
   "metadata": {},
   "outputs": [
    {
     "data": {
      "text/html": [
       "<div>\n",
       "<style scoped>\n",
       "    .dataframe tbody tr th:only-of-type {\n",
       "        vertical-align: middle;\n",
       "    }\n",
       "\n",
       "    .dataframe tbody tr th {\n",
       "        vertical-align: top;\n",
       "    }\n",
       "\n",
       "    .dataframe thead th {\n",
       "        text-align: right;\n",
       "    }\n",
       "</style>\n",
       "<table border=\"1\" class=\"dataframe\">\n",
       "  <thead>\n",
       "    <tr style=\"text-align: right;\">\n",
       "      <th></th>\n",
       "      <th>feature</th>\n",
       "      <th>fscore</th>\n",
       "    </tr>\n",
       "  </thead>\n",
       "  <tbody>\n",
       "    <tr>\n",
       "      <th>0</th>\n",
       "      <td>grade</td>\n",
       "      <td>0.004897</td>\n",
       "    </tr>\n",
       "  </tbody>\n",
       "</table>\n",
       "</div>"
      ],
      "text/plain": [
       "  feature    fscore\n",
       "0   grade  0.004897"
      ]
     },
     "execution_count": 149,
     "metadata": {},
     "output_type": "execute_result"
    }
   ],
   "source": [
    "grade_importance = df_importance.query(\"feature=='grade'\")\n",
    "grade_importance"
   ]
  },
  {
   "cell_type": "code",
   "execution_count": 150,
   "metadata": {},
   "outputs": [
    {
     "data": {
      "text/html": [
       "<div>\n",
       "<style scoped>\n",
       "    .dataframe tbody tr th:only-of-type {\n",
       "        vertical-align: middle;\n",
       "    }\n",
       "\n",
       "    .dataframe tbody tr th {\n",
       "        vertical-align: top;\n",
       "    }\n",
       "\n",
       "    .dataframe thead th {\n",
       "        text-align: right;\n",
       "    }\n",
       "</style>\n",
       "<table border=\"1\" class=\"dataframe\">\n",
       "  <thead>\n",
       "    <tr style=\"text-align: right;\">\n",
       "      <th></th>\n",
       "      <th>feature</th>\n",
       "      <th>fscore</th>\n",
       "    </tr>\n",
       "  </thead>\n",
       "  <tbody>\n",
       "    <tr>\n",
       "      <th>1</th>\n",
       "      <td>subgrade</td>\n",
       "      <td>0.013671</td>\n",
       "    </tr>\n",
       "  </tbody>\n",
       "</table>\n",
       "</div>"
      ],
      "text/plain": [
       "    feature    fscore\n",
       "1  subgrade  0.013671"
      ]
     },
     "execution_count": 150,
     "metadata": {},
     "output_type": "execute_result"
    }
   ],
   "source": [
    "subgrade_importance = df_importance.query(\"feature=='subgrade'\")\n",
    "subgrade_importance"
   ]
  },
  {
   "cell_type": "code",
   "execution_count": 151,
   "metadata": {},
   "outputs": [
    {
     "data": {
      "text/html": [
       "<div>\n",
       "<style scoped>\n",
       "    .dataframe tbody tr th:only-of-type {\n",
       "        vertical-align: middle;\n",
       "    }\n",
       "\n",
       "    .dataframe tbody tr th {\n",
       "        vertical-align: top;\n",
       "    }\n",
       "\n",
       "    .dataframe thead th {\n",
       "        text-align: right;\n",
       "    }\n",
       "</style>\n",
       "<table border=\"1\" class=\"dataframe\">\n",
       "  <thead>\n",
       "    <tr style=\"text-align: right;\">\n",
       "      <th></th>\n",
       "      <th>feature</th>\n",
       "      <th>fscore</th>\n",
       "    </tr>\n",
       "  </thead>\n",
       "  <tbody>\n",
       "    <tr>\n",
       "      <th>25</th>\n",
       "      <td>intrate</td>\n",
       "      <td>0.023771</td>\n",
       "    </tr>\n",
       "  </tbody>\n",
       "</table>\n",
       "</div>"
      ],
      "text/plain": [
       "    feature    fscore\n",
       "25  intrate  0.023771"
      ]
     },
     "execution_count": 151,
     "metadata": {},
     "output_type": "execute_result"
    }
   ],
   "source": [
    "intrate_importance = df_importance.query(\"feature=='intrate'\")\n",
    "intrate_importance"
   ]
  },
  {
   "cell_type": "code",
   "execution_count": 152,
   "metadata": {},
   "outputs": [
    {
     "data": {
      "text/html": [
       "<div>\n",
       "<style scoped>\n",
       "    .dataframe tbody tr th:only-of-type {\n",
       "        vertical-align: middle;\n",
       "    }\n",
       "\n",
       "    .dataframe tbody tr th {\n",
       "        vertical-align: top;\n",
       "    }\n",
       "\n",
       "    .dataframe thead th {\n",
       "        text-align: right;\n",
       "    }\n",
       "</style>\n",
       "<table border=\"1\" class=\"dataframe\">\n",
       "  <thead>\n",
       "    <tr style=\"text-align: right;\">\n",
       "      <th></th>\n",
       "      <th>feature</th>\n",
       "      <th>fscore</th>\n",
       "    </tr>\n",
       "  </thead>\n",
       "  <tbody>\n",
       "    <tr>\n",
       "      <th>46</th>\n",
       "      <td>loanamnt</td>\n",
       "      <td>0.017037</td>\n",
       "    </tr>\n",
       "  </tbody>\n",
       "</table>\n",
       "</div>"
      ],
      "text/plain": [
       "     feature    fscore\n",
       "46  loanamnt  0.017037"
      ]
     },
     "execution_count": 152,
     "metadata": {},
     "output_type": "execute_result"
    }
   ],
   "source": [
    "df_importance.query(\"feature=='loanamnt'\")"
   ]
  },
  {
   "cell_type": "code",
   "execution_count": 153,
   "metadata": {},
   "outputs": [
    {
     "data": {
      "text/plain": [
       "Text(0.5,0,'relative importance')"
      ]
     },
     "execution_count": 153,
     "metadata": {},
     "output_type": "execute_result"
    },
    {
     "data": {
      "text/plain": [
       "<Figure size 2304x2304 with 0 Axes>"
      ]
     },
     "metadata": {},
     "output_type": "display_data"
    },
    {
     "data": {
      "image/png": "[encoded data removed]",
      "text/plain": [
       "<Figure size 432x720 with 1 Axes>"
      ]
     },
     "metadata": {},
     "output_type": "display_data"
    }
   ],
   "source": [
    "plt.figure(figsize=(32, 32))\n",
    "# df_importance.plot()\n",
    "df_importance.plot(kind='barh', x='feature', y='fscore', legend=False, figsize=(6, 10))\n",
    "plt.title('XGBoost Feature Importance')\n",
    "plt.xlabel('relative importance')"
   ]
  },
  {
   "cell_type": "markdown",
   "metadata": {},
   "source": [
    "## Model Tuning\n",
    "### Hyperparameter Tuning - Bayesian Optimization\n",
    "grid search / bayes"
   ]
  },
  {
   "cell_type": "code",
   "execution_count": 154,
   "metadata": {
    "scrolled": false
   },
   "outputs": [],
   "source": [
    "from bayes_opt import BayesianOptimization\n",
    "\n",
    "train_x = df_train[feat]\n",
    "train_y = df_train.loanstatus\n",
    "\n",
    "xgtrain = xgb.DMatrix(train_x, label=train_y, missing = np.NAN)  \n",
    "\n",
    "# step1- 定义一个目标函数，里面放入我们希望优化的函数\n",
    "def xgb_evaluate(min_child_weight,\n",
    "                 colsample_bytree,\n",
    "                 max_depth,\n",
    "                 subsample,\n",
    "                 gamma):\n",
    "    params = dict()\n",
    "    params['objective'] = 'binary:logistic'\n",
    "    params['eta'] = 0.05\n",
    "    params['max_depth'] = int(max_depth )   \n",
    "    params['min_child_weight'] = int(min_child_weight)\n",
    "    params['colsample_bytree'] = colsample_bytree\n",
    "    params['subsample'] = subsample\n",
    "    params['gamma'] = gamma\n",
    "    params['verbose_eval'] = False \n",
    "\n",
    "\n",
    "    #xgb.cv交叉验证\n",
    "    cv_result = xgb.cv(params, #超参数\n",
    "                       xgtrain, #训练集\n",
    "                       num_boost_round=100000,\n",
    "                       nfold=3, \n",
    "                       metrics={'auc'},\n",
    "                       seed=1234,\n",
    "                       callbacks=[xgb.callback.early_stop(50)])\n",
    "    print(cv_result)\n",
    "    # 为了实现提前停止的交叉验证，我们使用xgboost函数cv，它输入为超参数，训练集，用于交叉验证的折数等\n",
    "    # 将迭代次数num_boost_round设为10000，但实际不会达到这个数字，因为我们用early_stop停止训练，当50轮迭代后都没有提升时，\n",
    "# 则提前停止并选择模型，因此，迭代次数并不是我们需要设置的超参数。\n",
    "\n",
    "    # 一旦交叉验证完成，我们就会得到最好的分数roc-auc,然后返回这个值↓\n",
    "    return cv_result['test-auc-mean'].max()\n",
    "\n",
    "\n",
    "\n",
    "# bayes优化对象:第一个参数是优化目标函数，第二个参数是所需要输入的超参数名称和其范围。超参数名称必须和目标函数的输入名称一一对应\n",
    "xgb_BO = BayesianOptimization(xgb_evaluate, \n",
    "                             {'max_depth': (4, 8),\n",
    "                              'min_child_weight': (0, 20),\n",
    "                              'colsample_bytree': (0.2, 0.8),\n",
    "                              'subsample': (0.5, 1),\n",
    "                              'gamma': (0, 2)\n",
    "                             })\n"
   ]
  },
  {
   "cell_type": "code",
   "execution_count": null,
   "metadata": {},
   "outputs": [],
   "source": [
    "# step2- 运行bayes优化, 设置初始点的数量，以及我们想要的迭代次数，迭代次数将是我们要训练的机器学习模型数量\n",
    "\n",
    "    \n",
    "xgb_BO.maximize(init_points=5, n_iter=40, acq='ei', xi=0.0)\n",
    "    \n",
    "#xgb_BO.maximize(init_points=5, n_iter=40)"
   ]
  },
  {
   "cell_type": "code",
   "execution_count": 156,
   "metadata": {},
   "outputs": [
    {
     "data": {
      "text/plain": [
       "{'target': 0.6899243333333334,\n",
       " 'params': {'colsample_bytree': 0.32221742682392707,\n",
       "  'gamma': 1.888745445753438,\n",
       "  'max_depth': 4.036348790067709,\n",
       "  'min_child_weight': 19.984365517870163,\n",
       "  'subsample': 0.7112055441024843}}"
      ]
     },
     "execution_count": 156,
     "metadata": {},
     "output_type": "execute_result"
    }
   ],
   "source": [
    "## step3- Tuning results 等到程序结束，我们可以查看当前最优的参数和结果：\n",
    "xgb_BO.max"
   ]
  },
  {
   "cell_type": "code",
   "execution_count": 159,
   "metadata": {},
   "outputs": [
    {
     "data": {
      "text/plain": [
       "[{'target': 0.6887366666666667,\n",
       "  'params': {'colsample_bytree': 0.5812329423129357,\n",
       "   'gamma': 0.8678977507427901,\n",
       "   'max_depth': 4.059622043705835,\n",
       "   'min_child_weight': 12.946454840212505,\n",
       "   'subsample': 0.7945144198585279}},\n",
       " {'target': 0.6895579999999999,\n",
       "  'params': {'colsample_bytree': 0.43689187355135795,\n",
       "   'gamma': 0.1386007236314446,\n",
       "   'max_depth': 4.280480926952631,\n",
       "   'min_child_weight': 5.257042363761015,\n",
       "   'subsample': 0.6862056484853174}},\n",
       " {'target': 0.6883256666666666,\n",
       "  'params': {'colsample_bytree': 0.6166865884032364,\n",
       "   'gamma': 0.4465144971951205,\n",
       "   'max_depth': 6.198954751606491,\n",
       "   'min_child_weight': 15.949471904218612,\n",
       "   'subsample': 0.6931612816833945}},\n",
       " {'target': 0.6899066666666668,\n",
       "  'params': {'colsample_bytree': 0.44366857555262706,\n",
       "   'gamma': 1.1853924774703042,\n",
       "   'max_depth': 4.029663085342705,\n",
       "   'min_child_weight': 16.065623526959588,\n",
       "   'subsample': 0.5817640254624865}},\n",
       " {'target': 0.6877393333333334,\n",
       "  'params': {'colsample_bytree': 0.6701028544072225,\n",
       "   'gamma': 1.1966291137747447,\n",
       "   'max_depth': 7.914834567628259,\n",
       "   'min_child_weight': 14.904392093200794,\n",
       "   'subsample': 0.8245846916583983}},\n",
       " {'target': 0.6892656666666667,\n",
       "  'params': {'colsample_bytree': 0.22835942338259732,\n",
       "   'gamma': 1.6757471368802517,\n",
       "   'max_depth': 4.2236519596678015,\n",
       "   'min_child_weight': 0.0435224773963383,\n",
       "   'subsample': 0.9565695153612197}},\n",
       " {'target': 0.6885009999999999,\n",
       "  'params': {'colsample_bytree': 0.2985861009479285,\n",
       "   'gamma': 0.054940980274571505,\n",
       "   'max_depth': 4.066673296313423,\n",
       "   'min_child_weight': 0.021437142721814073,\n",
       "   'subsample': 0.9345639661425229}},\n",
       " {'target': 0.6870016666666666,\n",
       "  'params': {'colsample_bytree': 0.3141686149767541,\n",
       "   'gamma': 1.6431833146213353,\n",
       "   'max_depth': 7.991643178662481,\n",
       "   'min_child_weight': 0.05572284064758737,\n",
       "   'subsample': 0.6341135886874685}},\n",
       " {'target': 0.6889980000000001,\n",
       "  'params': {'colsample_bytree': 0.5021746091559731,\n",
       "   'gamma': 1.333172380333557,\n",
       "   'max_depth': 4.258466894013412,\n",
       "   'min_child_weight': 19.993869041557932,\n",
       "   'subsample': 0.8362127111947932}},\n",
       " {'target': 0.6888676666666665,\n",
       "  'params': {'colsample_bytree': 0.6772470179340684,\n",
       "   'gamma': 1.4799872596963128,\n",
       "   'max_depth': 4.113128794640529,\n",
       "   'min_child_weight': 19.98095465712082,\n",
       "   'subsample': 0.5329210260435986}},\n",
       " {'target': 0.6899243333333334,\n",
       "  'params': {'colsample_bytree': 0.32221742682392707,\n",
       "   'gamma': 1.888745445753438,\n",
       "   'max_depth': 4.036348790067709,\n",
       "   'min_child_weight': 19.984365517870163,\n",
       "   'subsample': 0.7112055441024843}},\n",
       " {'target': 0.6879973333333332,\n",
       "  'params': {'colsample_bytree': 0.6966972225831973,\n",
       "   'gamma': 0.26499896149119717,\n",
       "   'max_depth': 7.721936177450173,\n",
       "   'min_child_weight': 19.95248297209768,\n",
       "   'subsample': 0.7522344561654282}},\n",
       " {'target': 0.6884626666666667,\n",
       "  'params': {'colsample_bytree': 0.24703442093866712,\n",
       "   'gamma': 1.996605157508074,\n",
       "   'max_depth': 4.047153362545554,\n",
       "   'min_child_weight': 0.18378649263903313,\n",
       "   'subsample': 0.5597198134841261}},\n",
       " {'target': 0.6879636666666666,\n",
       "  'params': {'colsample_bytree': 0.2030719321616995,\n",
       "   'gamma': 0.4037694356370245,\n",
       "   'max_depth': 7.874100883021203,\n",
       "   'min_child_weight': 19.98169009003488,\n",
       "   'subsample': 0.7179033982409242}},\n",
       " {'target': 0.6885813333333334,\n",
       "  'params': {'colsample_bytree': 0.33500732431715063,\n",
       "   'gamma': 1.342207927548649,\n",
       "   'max_depth': 4.038704899353709,\n",
       "   'min_child_weight': 0.04941327316424937,\n",
       "   'subsample': 0.573058673235921}},\n",
       " {'target': 0.6876843333333333,\n",
       "  'params': {'colsample_bytree': 0.768979442752334,\n",
       "   'gamma': 1.9398949245071626,\n",
       "   'max_depth': 6.364112684401656,\n",
       "   'min_child_weight': 0.037176830857257315,\n",
       "   'subsample': 0.9227655578711969}},\n",
       " {'target': 0.6892986666666667,\n",
       "  'params': {'colsample_bytree': 0.24357695306244914,\n",
       "   'gamma': 1.3314695599715467,\n",
       "   'max_depth': 4.24090401066862,\n",
       "   'min_child_weight': 19.944149844632836,\n",
       "   'subsample': 0.8449448672612155}},\n",
       " {'target': 0.689645,\n",
       "  'params': {'colsample_bytree': 0.7945636552714876,\n",
       "   'gamma': 0.0483818618231413,\n",
       "   'max_depth': 4.037539618814021,\n",
       "   'min_child_weight': 19.80450703088985,\n",
       "   'subsample': 0.5309221926318646}},\n",
       " {'target': 0.6891176666666666,\n",
       "  'params': {'colsample_bytree': 0.6012272118870994,\n",
       "   'gamma': 0.03173244108009321,\n",
       "   'max_depth': 4.014379513039065,\n",
       "   'min_child_weight': 19.917963225756996,\n",
       "   'subsample': 0.5691477013441493}},\n",
       " {'target': 0.6892646666666667,\n",
       "  'params': {'colsample_bytree': 0.3162428885831828,\n",
       "   'gamma': 1.8867342247135461,\n",
       "   'max_depth': 4.011441486700447,\n",
       "   'min_child_weight': 19.781101631675554,\n",
       "   'subsample': 0.6847987615183951}},\n",
       " {'target': 0.689672,\n",
       "  'params': {'colsample_bytree': 0.2645830124486593,\n",
       "   'gamma': 0.03527972777310384,\n",
       "   'max_depth': 4.00227615457861,\n",
       "   'min_child_weight': 19.898607362737742,\n",
       "   'subsample': 0.9365661711034268}},\n",
       " {'target': 0.689277,\n",
       "  'params': {'colsample_bytree': 0.6704640526943753,\n",
       "   'gamma': 1.900234213949407,\n",
       "   'max_depth': 4.029206185100579,\n",
       "   'min_child_weight': 19.957635501601068,\n",
       "   'subsample': 0.9061057774926529}},\n",
       " {'target': 0.6893726666666667,\n",
       "  'params': {'colsample_bytree': 0.3035352353901199,\n",
       "   'gamma': 0.054467529406408755,\n",
       "   'max_depth': 4.045019815214011,\n",
       "   'min_child_weight': 19.990714508666304,\n",
       "   'subsample': 0.929940114318772}},\n",
       " {'target': 0.6888943333333334,\n",
       "  'params': {'colsample_bytree': 0.7315120977779912,\n",
       "   'gamma': 0.12207054140049078,\n",
       "   'max_depth': 4.008335022965094,\n",
       "   'min_child_weight': 19.984821247053645,\n",
       "   'subsample': 0.5269138116746754}},\n",
       " {'target': 0.6890046666666666,\n",
       "  'params': {'colsample_bytree': 0.6966645171839779,\n",
       "   'gamma': 1.7921228167275005,\n",
       "   'max_depth': 4.005733119514561,\n",
       "   'min_child_weight': 19.988214630568752,\n",
       "   'subsample': 0.9238472225198437}},\n",
       " {'target': 0.6891176666666666,\n",
       "  'params': {'colsample_bytree': 0.3930372515443251,\n",
       "   'gamma': 1.8817617548447285,\n",
       "   'max_depth': 4.035248666247616,\n",
       "   'min_child_weight': 19.959981430097923,\n",
       "   'subsample': 0.8466245017211129}},\n",
       " {'target': 0.68948,\n",
       "  'params': {'colsample_bytree': 0.2357318218241521,\n",
       "   'gamma': 1.9723935031973872,\n",
       "   'max_depth': 4.014943406846276,\n",
       "   'min_child_weight': 19.774660207174733,\n",
       "   'subsample': 0.6314654145188807}},\n",
       " {'target': 0.6890206666666666,\n",
       "  'params': {'colsample_bytree': 0.23980808444183588,\n",
       "   'gamma': 0.2274290831305681,\n",
       "   'max_depth': 4.053354825683185,\n",
       "   'min_child_weight': 19.972465453817286,\n",
       "   'subsample': 0.9905524701537656}},\n",
       " {'target': 0.6893186666666667,\n",
       "  'params': {'colsample_bytree': 0.3732474276253134,\n",
       "   'gamma': 1.9959511016099487,\n",
       "   'max_depth': 4.066245062585631,\n",
       "   'min_child_weight': 19.823403827887354,\n",
       "   'subsample': 0.7507823368529216}},\n",
       " {'target': 0.6891856666666666,\n",
       "  'params': {'colsample_bytree': 0.7989132954109801,\n",
       "   'gamma': 0.061979537632228965,\n",
       "   'max_depth': 4.006951916921972,\n",
       "   'min_child_weight': 19.78273604413839,\n",
       "   'subsample': 0.833980913028771}},\n",
       " {'target': 0.6892126666666667,\n",
       "  'params': {'colsample_bytree': 0.39899449536069986,\n",
       "   'gamma': 1.9774389062749087,\n",
       "   'max_depth': 4.008077460821586,\n",
       "   'min_child_weight': 19.955417106017144,\n",
       "   'subsample': 0.9909533611596115}},\n",
       " {'target': 0.6890703333333333,\n",
       "  'params': {'colsample_bytree': 0.34604392369470505,\n",
       "   'gamma': 0.04200532265672341,\n",
       "   'max_depth': 4.027864546644072,\n",
       "   'min_child_weight': 19.840858704512804,\n",
       "   'subsample': 0.9819558435686229}},\n",
       " {'target': 0.6891496666666667,\n",
       "  'params': {'colsample_bytree': 0.3260767445496511,\n",
       "   'gamma': 0.0235057414819817,\n",
       "   'max_depth': 4.057301468944267,\n",
       "   'min_child_weight': 19.783026473545956,\n",
       "   'subsample': 0.5167654600170465}},\n",
       " {'target': 0.6890166666666667,\n",
       "  'params': {'colsample_bytree': 0.3336887945936357,\n",
       "   'gamma': 1.9886234762273176,\n",
       "   'max_depth': 4.116037625073528,\n",
       "   'min_child_weight': 19.994584673612312,\n",
       "   'subsample': 0.5291680069389895}},\n",
       " {'target': 0.6889513333333334,\n",
       "  'params': {'colsample_bytree': 0.30791282053023705,\n",
       "   'gamma': 0.02115198496952897,\n",
       "   'max_depth': 4.054172827884319,\n",
       "   'min_child_weight': 0.12410179821753964,\n",
       "   'subsample': 0.7917241484197588}},\n",
       " {'target': 0.6888593333333333,\n",
       "  'params': {'colsample_bytree': 0.4777288917907,\n",
       "   'gamma': 0.0405107961609843,\n",
       "   'max_depth': 4.018641183373165,\n",
       "   'min_child_weight': 19.745537344076315,\n",
       "   'subsample': 0.9252339250817863}},\n",
       " {'target': 0.6891543333333333,\n",
       "  'params': {'colsample_bytree': 0.3651667292429701,\n",
       "   'gamma': 1.9778129501618877,\n",
       "   'max_depth': 4.01754805382291,\n",
       "   'min_child_weight': 19.99082106325076,\n",
       "   'subsample': 0.5130915508303358}},\n",
       " {'target': 0.6896046666666668,\n",
       "  'params': {'colsample_bytree': 0.6802661603154161,\n",
       "   'gamma': 1.962503210495163,\n",
       "   'max_depth': 4.010700773630569,\n",
       "   'min_child_weight': 19.857106688010077,\n",
       "   'subsample': 0.8740718542832396}},\n",
       " {'target': 0.6894300000000001,\n",
       "  'params': {'colsample_bytree': 0.791269937608206,\n",
       "   'gamma': 0.0007074506174973294,\n",
       "   'max_depth': 4.027821397536714,\n",
       "   'min_child_weight': 0.372813671228307,\n",
       "   'subsample': 0.5284605991239117}},\n",
       " {'target': 0.6887699999999999,\n",
       "  'params': {'colsample_bytree': 0.5136068987187796,\n",
       "   'gamma': 0.07947438604003576,\n",
       "   'max_depth': 4.005454012024082,\n",
       "   'min_child_weight': 19.90986251870482,\n",
       "   'subsample': 0.5403109658789886}},\n",
       " {'target': 0.6883813333333334,\n",
       "  'params': {'colsample_bytree': 0.2685957749089007,\n",
       "   'gamma': 1.9124622706655456,\n",
       "   'max_depth': 4.0091459029379175,\n",
       "   'min_child_weight': 0.01630855821459054,\n",
       "   'subsample': 0.500317958393362}},\n",
       " {'target': 0.689151,\n",
       "  'params': {'colsample_bytree': 0.46072721240529435,\n",
       "   'gamma': 0.04015184744966094,\n",
       "   'max_depth': 4.034139177930232,\n",
       "   'min_child_weight': 19.59082777843322,\n",
       "   'subsample': 0.8952565773395337}},\n",
       " {'target': 0.689167,\n",
       "  'params': {'colsample_bytree': 0.6783549066344013,\n",
       "   'gamma': 0.015500652959245187,\n",
       "   'max_depth': 4.041980507107489,\n",
       "   'min_child_weight': 0.2424537818266037,\n",
       "   'subsample': 0.9590777343596602}},\n",
       " {'target': 0.6892883333333334,\n",
       "  'params': {'colsample_bytree': 0.6052050640136166,\n",
       "   'gamma': 1.9733174194997893,\n",
       "   'max_depth': 4.0111679554184825,\n",
       "   'min_child_weight': 19.912395995481024,\n",
       "   'subsample': 0.7709298776896263}},\n",
       " {'target': 0.6897166666666666,\n",
       "  'params': {'colsample_bytree': 0.4416595887184804,\n",
       "   'gamma': 0.003326857510703274,\n",
       "   'max_depth': 4.011486746761613,\n",
       "   'min_child_weight': 19.820333810820525,\n",
       "   'subsample': 0.6152229443575477}}]"
      ]
     },
     "execution_count": 159,
     "metadata": {},
     "output_type": "execute_result"
    }
   ],
   "source": [
    "xgb_BO.res"
   ]
  },
  {
   "cell_type": "code",
   "execution_count": 160,
   "metadata": {
    "scrolled": true
   },
   "outputs": [
    {
     "name": "stdout",
     "output_type": "stream",
     "text": [
      "   colsample_bytree     gamma  max_depth  min_child_weight  subsample  \\\n",
      "0          0.581233  0.867898   4.059622         12.946455   0.794514   \n",
      "1          0.436892  0.138601   4.280481          5.257042   0.686206   \n",
      "2          0.616687  0.446514   6.198955         15.949472   0.693161   \n",
      "3          0.443669  1.185392   4.029663         16.065624   0.581764   \n",
      "4          0.670103  1.196629   7.914835         14.904392   0.824585   \n",
      "5          0.228359  1.675747   4.223652          0.043522   0.956570   \n",
      "6          0.298586  0.054941   4.066673          0.021437   0.934564   \n",
      "7          0.314169  1.643183   7.991643          0.055723   0.634114   \n",
      "8          0.502175  1.333172   4.258467         19.993869   0.836213   \n",
      "9          0.677247  1.479987   4.113129         19.980955   0.532921   \n",
      "\n",
      "     target  \n",
      "0  0.688737  \n",
      "1  0.689558  \n",
      "2  0.688326  \n",
      "3  0.689907  \n",
      "4  0.687739  \n",
      "5  0.689266  \n",
      "6  0.688501  \n",
      "7  0.687002  \n",
      "8  0.688998  \n",
      "9  0.688868  \n"
     ]
    },
    {
     "data": {
      "text/html": [
       "<div>\n",
       "<style scoped>\n",
       "    .dataframe tbody tr th:only-of-type {\n",
       "        vertical-align: middle;\n",
       "    }\n",
       "\n",
       "    .dataframe tbody tr th {\n",
       "        vertical-align: top;\n",
       "    }\n",
       "\n",
       "    .dataframe thead th {\n",
       "        text-align: right;\n",
       "    }\n",
       "</style>\n",
       "<table border=\"1\" class=\"dataframe\">\n",
       "  <thead>\n",
       "    <tr style=\"text-align: right;\">\n",
       "      <th></th>\n",
       "      <th>colsample_bytree</th>\n",
       "      <th>gamma</th>\n",
       "      <th>max_depth</th>\n",
       "      <th>min_child_weight</th>\n",
       "      <th>subsample</th>\n",
       "    </tr>\n",
       "  </thead>\n",
       "  <tbody>\n",
       "    <tr>\n",
       "      <th>target</th>\n",
       "      <td>0.689924</td>\n",
       "      <td>0.689924</td>\n",
       "      <td>0.689924</td>\n",
       "      <td>0.689924</td>\n",
       "      <td>0.689924</td>\n",
       "    </tr>\n",
       "    <tr>\n",
       "      <th>params</th>\n",
       "      <td>0.322217</td>\n",
       "      <td>1.888745</td>\n",
       "      <td>4.036349</td>\n",
       "      <td>19.984366</td>\n",
       "      <td>0.711206</td>\n",
       "    </tr>\n",
       "  </tbody>\n",
       "</table>\n",
       "</div>"
      ],
      "text/plain": [
       "        colsample_bytree     gamma  max_depth  min_child_weight  subsample\n",
       "target          0.689924  0.689924   0.689924          0.689924   0.689924\n",
       "params          0.322217  1.888745   4.036349         19.984366   0.711206"
      ]
     },
     "execution_count": 160,
     "metadata": {},
     "output_type": "execute_result"
    }
   ],
   "source": [
    "a = [{**x, **x.pop('params')} for x in xgb_BO.res]\n",
    "xgb_BO_scores = pd.DataFrame(a)\n",
    "print(xgb_BO_scores.head(10))\n",
    "\n",
    "xgb_BO_max = pd.DataFrame(xgb_BO.max).T\n",
    "xgb_BO_max"
   ]
  },
  {
   "cell_type": "code",
   "execution_count": 106,
   "metadata": {
    "scrolled": true
   },
   "outputs": [],
   "source": [
    "## Tuning results\n",
    "#xgb_BO_scores = pd.DataFrame(xgb_BO.res['all']['params'])\n",
    "#xgb_BO_scores['score'] = pd.DataFrame(xgb_BO.res['all']['values'])\n",
    "#xgb_BO_scores = xgb_BO_scores.sort_values(by='score',ascending=False)\n",
    "#xgb_BO_scores.head(3)"
   ]
  },
  {
   "cell_type": "markdown",
   "metadata": {},
   "source": [
    "### Retrain model with tuned parameters"
   ]
  },
  {
   "cell_type": "code",
   "execution_count": 162,
   "metadata": {},
   "outputs": [
    {
     "data": {
      "text/plain": [
       "{'colsample_bytree': 0.32221742682392707,\n",
       " 'gamma': 1.888745445753438,\n",
       " 'max_depth': 4.036348790067709,\n",
       " 'min_child_weight': 19.984365517870163,\n",
       " 'subsample': 0.7112055441024843}"
      ]
     },
     "execution_count": 162,
     "metadata": {},
     "output_type": "execute_result"
    }
   ],
   "source": [
    "params = xgb_BO_max.iloc[1].to_dict()\n",
    "params"
   ]
  },
  {
   "cell_type": "code",
   "execution_count": 163,
   "metadata": {},
   "outputs": [],
   "source": [
    "# xgboost.train()利用param列表设置模型参数\n",
    "# xgboost.XGBClassifier()利用函数参数设置模型参数。 用途是一样的\n",
    "\n",
    "best_xgb_iteration = 1500 # 前面num_boost_round = 1500\n",
    "\n",
    "clf_train = xgb.XGBClassifier(learning_rate = 0.01\n",
    "                  , n_estimators = best_xgb_iteration\n",
    "                  , max_depth = int(params['max_depth']) \n",
    "                  , min_child_weight = params['min_child_weight']\n",
    "                  , subsample = params['subsample']\n",
    "                  , colsample_bytree = params['colsample_bytree']\n",
    "                  , gamma = params['gamma']\n",
    "                  , seed = 1441\n",
    "                  , nthread = -1\n",
    "                  , scale_pos_weight = 1\n",
    "                  , eval_metric= 'auc'\n",
    "                            \n",
    "                  )\n"
   ]
  },
  {
   "cell_type": "markdown",
   "metadata": {},
   "source": [
    "xgboost.train()利用param列表设置模型参数 <br>\n",
    "xgboost.XGBClassifier()利用函数参数设置模型参数。 用途是一样的 <br>\n",
    "\n",
    "\n",
    "https://www.cnblogs.com/Allen-rg/p/10563362.html <br>\n",
    "\n",
    "gbm = **xgb.train(**\n",
    "- params = {‘booster’:’gbtree’,’eta’:0.1}， 这是一个字典，里面包含着训练中的参数关键字和对应的值\n",
    "- dtrain： 训练的数据\n",
    "- obj：   自定义目的函数\n",
    "- feval：  自定义评估函数\n",
    "\n",
    "- evals： 这是一个列表，用于对训练过程中进行评估列表中的元素。形式是evals = $[$(dtrain,’train’),(dval,’val’)$]$ \n",
    "或者是evals = $[$(dtrain,’train’)$]$。对于第一种情况,它使得我们可以在训练过程中观察验证集的效果\n",
    "- evals_result： 字典，存储在watchlist中的元素的评估结果。\n",
    "- early_stopping_rounds：当设置的迭代次数较大时，可在一定的迭代次数内准确率没有提升就停止训练。\n",
    "要求evals里至少有一个元素,如果有多个,按最后一个去执行,返回的是最后的迭代次数（不是最好的），\n",
    "如果early_stopping_rounds存在，则模型会生成三个属性： \n",
    "bst.best_score，bst.best_iteration，bst.best_ntree_limit \n",
    "- verbose_eval： (可以输入布尔型或数值型)，也要求evals里至少有一个元素, \n",
    "如果为True,则对evals中元素的评估结果会输出在结果中；如果输入数字5，则每隔5个迭代输出一次\n",
    "- xgb_model： 在训练之前用于加载的xgb model\n",
    "\n",
    "\n",
    "\n",
    "clf = **XGBClassifier(**\n",
    "- silent =0 ： 设置成1则没有运行信息输出，最好是设置为0.是否在运行升级时打印消息。\n",
    "- nthread =4： cpu 线程数 默认最大\n",
    "- learning_rate = 0.3：   如同学习率\n",
    "- min_child_weight =1,   这个参数默认是1，是每个叶子里面 h 的和至少是多少，\n",
    "对正负样本不均衡时的0-1分类而言, 假设 h 在0.01附近，min_child_weight 为1意味着叶子节点中最少需要包含100个样本，\n",
    "这个参数非常影响结果，控制叶子节点中二阶导的和的最小值，该参数值越小，越容易overfitting\n",
    "- max_depth =6：  构建树的深度，越大越容易overfitting\n",
    "- gamma =0：    树的叶子节点上作进一步分区所需的最小损失减少,越大越保守，一般0.1、0.2这样子。\n",
    "- subsample =1：  随机采样训练样本， 训练实例的子采样比\n",
    "- max_delta_step =0： 最大增量步长，我们允许每个树的权重估计。\n",
    "- colsample_bytree =1：  生成树时进行的列采样 \n",
    "- reg_lambda =1：    控制模型复杂度的权重值的L2正则化项参数，参数越大，模型越不容易overfitting\n",
    "- reg_alpha =0：    L1 正则项参数\n",
    "- scale_pos_weight =1；   如果取值大于0的话，在类别样本不平衡的情况下有助于快速收敛,平衡正负权重\n",
    "- objective = 'multi:softmax'：     多分类的问题 指定学习任务和相应的学习目标\n",
    "- num_class =10：       类别数，多分类与multisoftmax并用\n",
    "- n_estimators =100：   树的个数\n",
    "- seed =1000：  随机种子\n",
    "- eval_metric = 'auc'"
   ]
  },
  {
   "cell_type": "code",
   "execution_count": null,
   "metadata": {},
   "outputs": [],
   "source": [
    "params = {\"objective\": \"binary:logistic\", \n",
    "          \"booster\" : \"gbtree\", \n",
    "          \"eta\": 0.01, \n",
    "          \"max_depth\": 4, \n",
    "          \"subsample\": 0.5115777, \n",
    "          \"colsample_bytree\":  0.509529,\n",
    "          \"min_child_weight\": 13.93988,\n",
    "          \"gamma\":  0.335555,\n",
    "          \"silent\": 1, \n",
    "          \"seed\": 1441, \n",
    "          \"eval_metric\": \"auc\"\n",
    "          } \n",
    "\n",
    "watchlist = [(dtrain, 'train'), (dvalid, 'eval')]\n",
    "num_boost_round = 1500\n",
    "\n",
    "gbm2 = xgb.train(params, \n",
    "                dtrain, \n",
    "                num_boost_round, \n",
    "                evals = watchlist,\n",
    "                early_stopping_rounds = 50)\n"
   ]
  },
  {
   "cell_type": "markdown",
   "metadata": {},
   "source": [
    "## Model Evaluation"
   ]
  },
  {
   "cell_type": "markdown",
   "metadata": {},
   "source": [
    "### Feature Importance\n",
    "The importance of features is generated based on the feature importance scores from the XGBoost model.<br> \n",
    "From the result below it is found that the top 10 important features include Debt to Income Ratio,Installment, Annual Income, Interest Rate,Number of trades in past 24 months and so on. "
   ]
  },
  {
   "cell_type": "code",
   "execution_count": 168,
   "metadata": {},
   "outputs": [],
   "source": [
    "importance2 = gbm2.get_fscore()"
   ]
  },
  {
   "cell_type": "code",
   "execution_count": 169,
   "metadata": {},
   "outputs": [
    {
     "data": {
      "text/html": [
       "<div>\n",
       "<style scoped>\n",
       "    .dataframe tbody tr th:only-of-type {\n",
       "        vertical-align: middle;\n",
       "    }\n",
       "\n",
       "    .dataframe tbody tr th {\n",
       "        vertical-align: top;\n",
       "    }\n",
       "\n",
       "    .dataframe thead th {\n",
       "        text-align: right;\n",
       "    }\n",
       "</style>\n",
       "<table border=\"1\" class=\"dataframe\">\n",
       "  <thead>\n",
       "    <tr style=\"text-align: right;\">\n",
       "      <th></th>\n",
       "      <th>feature</th>\n",
       "      <th>fscore</th>\n",
       "    </tr>\n",
       "  </thead>\n",
       "  <tbody>\n",
       "    <tr>\n",
       "      <th>2</th>\n",
       "      <td>dti</td>\n",
       "      <td>0.048217</td>\n",
       "    </tr>\n",
       "    <tr>\n",
       "      <th>7</th>\n",
       "      <td>installment</td>\n",
       "      <td>0.041913</td>\n",
       "    </tr>\n",
       "    <tr>\n",
       "      <th>13</th>\n",
       "      <td>annualinc</td>\n",
       "      <td>0.039414</td>\n",
       "    </tr>\n",
       "    <tr>\n",
       "      <th>20</th>\n",
       "      <td>intrate</td>\n",
       "      <td>0.031747</td>\n",
       "    </tr>\n",
       "    <tr>\n",
       "      <th>5</th>\n",
       "      <td>accopenpast24mths</td>\n",
       "      <td>0.031690</td>\n",
       "    </tr>\n",
       "    <tr>\n",
       "      <th>22</th>\n",
       "      <td>mosinoldrevtlop</td>\n",
       "      <td>0.030441</td>\n",
       "    </tr>\n",
       "    <tr>\n",
       "      <th>55</th>\n",
       "      <td>zipcode</td>\n",
       "      <td>0.028396</td>\n",
       "    </tr>\n",
       "    <tr>\n",
       "      <th>46</th>\n",
       "      <td>mosinoldilacct</td>\n",
       "      <td>0.027658</td>\n",
       "    </tr>\n",
       "    <tr>\n",
       "      <th>1</th>\n",
       "      <td>subgrade</td>\n",
       "      <td>0.026636</td>\n",
       "    </tr>\n",
       "    <tr>\n",
       "      <th>11</th>\n",
       "      <td>avgcurbal</td>\n",
       "      <td>0.026408</td>\n",
       "    </tr>\n",
       "  </tbody>\n",
       "</table>\n",
       "</div>"
      ],
      "text/plain": [
       "              feature    fscore\n",
       "2                 dti  0.048217\n",
       "7         installment  0.041913\n",
       "13          annualinc  0.039414\n",
       "20            intrate  0.031747\n",
       "5   accopenpast24mths  0.031690\n",
       "22    mosinoldrevtlop  0.030441\n",
       "55            zipcode  0.028396\n",
       "46     mosinoldilacct  0.027658\n",
       "1            subgrade  0.026636\n",
       "11          avgcurbal  0.026408"
      ]
     },
     "execution_count": 169,
     "metadata": {},
     "output_type": "execute_result"
    }
   ],
   "source": [
    "df_importance2 = pd.DataFrame.from_dict(importance2,orient='index').reset_index()\n",
    "df_importance2.rename({0:'fscore','index':'feature'},axis=1,inplace=True)\n",
    "df_importance2['fscore'] = df_importance2['fscore'] / df_importance2['fscore'].sum()\n",
    "df_importance2.sort_values(['fscore'], ascending=False, inplace=True)\n",
    "\n",
    "df_importance2.head(10)\n"
   ]
  },
  {
   "cell_type": "code",
   "execution_count": 175,
   "metadata": {},
   "outputs": [
    {
     "data": {
      "text/plain": [
       "<Figure size 2304x2304 with 0 Axes>"
      ]
     },
     "metadata": {},
     "output_type": "display_data"
    },
    {
     "data": {
      "image/png": "[encoded data removed]",
      "text/plain": [
       "<Figure size 720x720 with 1 Axes>"
      ]
     },
     "metadata": {},
     "output_type": "display_data"
    }
   ],
   "source": [
    "plt.figure(figsize=(32, 32))\n",
    "\n",
    "df_importance2[:10].sort_values(by='fscore').plot(kind='barh', x='feature', y='fscore', legend=False, figsize=(10, 10))\n",
    "plt.tick_params(labelsize = 12)\n",
    "plt.xlabel('Relative Importance', fontsize = 12)\n",
    "plt.ylabel('Feature Name', fontsize = 12)\n",
    "\n",
    "plt.title('XGBoost Feature Importance2',fontsize = 16)\n",
    "plt.gcf().savefig('feature_importance2_xgb2.png')"
   ]
  },
  {
   "cell_type": "markdown",
   "metadata": {},
   "source": [
    "### Validate on test data\n",
    "The tuned model is used to predict the default rates in the testing dateset. The predicted default rate on the test set is about 0.1355, very close to the average default rate of around 0.1373. <br>\n",
    "The result of model performance is visualized via the ROC curve. The AUC scores on the training and validation sets are about 0.70 and 0.74, and the AUC score on the testing set is about 0.70."
   ]
  },
  {
   "cell_type": "code",
   "execution_count": 201,
   "metadata": {
    "scrolled": true
   },
   "outputs": [
    {
     "name": "stdout",
     "output_type": "stream",
     "text": [
      "0.6602236 0.009783567 0.13554929\n",
      "0.13726394783785445\n"
     ]
    }
   ],
   "source": [
    "y_pred = gbm2.predict(dtest)\n",
    "print (y_pred.max(), y_pred.min(), y_pred.mean())\n",
    "\n",
    "print(df.loanstatus.mean())"
   ]
  },
  {
   "cell_type": "markdown",
   "metadata": {},
   "source": [
    "### ROC Curve\n"
   ]
  },
  {
   "cell_type": "code",
   "execution_count": 183,
   "metadata": {},
   "outputs": [
    {
     "name": "stdout",
     "output_type": "stream",
     "text": [
      "Area under the ROC curve - validation: 0.695323\n",
      "Area under the ROC curve - train: 0.736148\n",
      "Area under the ROC curve - test: 0.698004\n"
     ]
    },
    {
     "data": {
      "image/png": "[encoded data removed]",
      "text/plain": [
       "<Figure size 576x576 with 1 Axes>"
      ]
     },
     "metadata": {},
     "output_type": "display_data"
    }
   ],
   "source": [
    "idx_0, thresholds_0, idx_1, thresholds_1, idx_2, thresholds_2 = \\\n",
    "draw_ROC(gbm2, dtrain, dvalid, dtest, y_train, y_valid, y_test)\n",
    "\n",
    "plt.savefig('roc_xgb_retrain_autotuned.png')\n",
    "plt.show()"
   ]
  },
  {
   "cell_type": "markdown",
   "metadata": {},
   "source": [
    "### Thresholds\n",
    "The best threshold of predicting default is determined based on Index value(= tpr - fpr), which optimizes the sensitivity and specificity.<br> \n",
    "From the figure below, 'TPR-FPR' maximizes at a threshold of 0.15. The maximum f1-score at the threshold of 0.15 is 0.34876, with a recall rate of 0.62, suggesting that 62% of total defalut loans is correctly classified by the model."
   ]
  },
  {
   "cell_type": "code",
   "execution_count": 199,
   "metadata": {},
   "outputs": [
    {
     "name": "stdout",
     "output_type": "stream",
     "text": [
      "validation: (0.13546135, 0.29358952953102174)\n",
      "train: (0.14353114, 0.34313703110251664)\n",
      "test: (0.14510967, 0.2947599826424135)\n"
     ]
    },
    {
     "data": {
      "image/png": "[encoded data removed]",
      "text/plain": [
       "<Figure size 576x576 with 1 Axes>"
      ]
     },
     "metadata": {},
     "output_type": "display_data"
    }
   ],
   "source": [
    "plt.figure(figsize = (8,8))\n",
    "plt.plot(thresholds_0, idx_0, label = \"ROC curve - validation\", color= 'r')\n",
    "plt.plot(thresholds_1, idx_1, label = \"ROC curve - train\", color= 'b')\n",
    "plt.plot(thresholds_2, idx_2, label = \"ROC curve - test\", color= 'g')\n",
    "plt.xlabel('Thresholds')\n",
    "plt.ylabel(\"TPR - FPR\")\n",
    "\n",
    "def max_threshold( x_feature, y_feature):\n",
    "    y_max = max(y_feature)\n",
    "    x_max = x_feature[ y_feature.argmax()] # Find the x value corresponding to the max y value\n",
    "    return(x_max, y_max )\n",
    "\n",
    "print ('validation:',max_threshold(thresholds_0, idx_0))\n",
    "print ('train:',max_threshold(thresholds_1, idx_1))\n",
    "print ('test:',max_threshold(thresholds_2, idx_2))"
   ]
  },
  {
   "cell_type": "code",
   "execution_count": 200,
   "metadata": {},
   "outputs": [
    {
     "name": "stdout",
     "output_type": "stream",
     "text": [
      "threshold: 0 (0.14528188724510196, 1.0, 0.25370502906418557, None)\n",
      "threshold: 0.1 (0.20238544058676355, 0.8125774047062061, 0.32405882998573154, None)\n",
      "threshold: 0.14 (0.23337564690948148, 0.6577679922939315, 0.34451691952863167, None)\n",
      "threshold: 0.15 (0.2425497579343733, 0.6204761249483969, 0.34876435781413156, None)\n",
      "threshold: 0.2 (0.2801012753188297, 0.41103619100041283, 0.33316602531927947, None)\n",
      "threshold: 0.25 (0.3203311867525299, 0.23957616623090683, 0.274130058258542, None)\n",
      "threshold: 0.5 (0.5217391304347826, 0.003302600798128526, 0.006563653767263777, None)\n"
     ]
    }
   ],
   "source": [
    "from sklearn.metrics import precision_recall_fscore_support\n",
    "\n",
    "for thrd in [0, 0.1, 0.14, 0.15, 0.2, 0.25, 0.5]:\n",
    "    test_results = []\n",
    "    for prob in y_pred:\n",
    "        if prob > thrd:\n",
    "            test_results.append(1)\n",
    "        else:\n",
    "            test_results.append(0)\n",
    "    print (\"threshold:\", thrd, precision_recall_fscore_support(y_test, test_results, pos_label=1, average='binary'))\n",
    "\n",
    "# precision_recall_fscore_support 计算precision、recall、f-score(前两者的调和平均数)、支持率\n",
    " # https://www.cnblogs.com/cnkai/p/7755141.html\n"
   ]
  },
  {
   "cell_type": "code",
   "execution_count": null,
   "metadata": {},
   "outputs": [],
   "source": []
  },
  {
   "cell_type": "markdown",
   "metadata": {},
   "source": [
    "## Save model"
   ]
  },
  {
   "cell_type": "code",
   "execution_count": null,
   "metadata": {},
   "outputs": [],
   "source": [
    "import pickle"
   ]
  },
  {
   "cell_type": "code",
   "execution_count": null,
   "metadata": {},
   "outputs": [],
   "source": [
    "with open('model.pkl','wb') as pkl_file:\n",
    "    pickle.dump(gbm, pkl_file)"
   ]
  },
  {
   "cell_type": "code",
   "execution_count": null,
   "metadata": {},
   "outputs": [],
   "source": [
    "from sklearn.externals import joblib\n",
    "joblib.dump(gbm, \"pima.joblib.dat\")"
   ]
  }
 ],
 "metadata": {
  "anaconda-cloud": {},
  "kernelspec": {
   "display_name": "Python 3",
   "language": "python",
   "name": "python3"
  },
  "language_info": {
   "codemirror_mode": {
    "name": "ipython",
    "version": 3
   },
   "file_extension": ".py",
   "mimetype": "text/x-python",
   "name": "python",
   "nbconvert_exporter": "python",
   "pygments_lexer": "ipython3",
   "version": "3.6.5"
  },
  "toc": {
   "base_numbering": 1,
   "nav_menu": {},
   "number_sections": true,
   "sideBar": true,
   "skip_h1_title": false,
   "title_cell": "Table of Contents",
   "title_sidebar": "Contents",
   "toc_cell": false,
   "toc_position": {
    "height": "calc(100% - 180px)",
    "left": "10px",
    "top": "150px",
    "width": "273px"
   },
   "toc_section_display": true,
   "toc_window_display": true
  }
 },
 "nbformat": 4,
 "nbformat_minor": 1
}
