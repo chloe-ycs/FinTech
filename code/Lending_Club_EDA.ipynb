{
 "cells": [
  {
   "cell_type": "code",
   "execution_count": 204,
   "metadata": {},
   "outputs": [],
   "source": [
    "import pandas as pd\n",
    "import numpy as np\n",
    "import matplotlib.pyplot as plt\n",
    "%matplotlib inline\n",
    "import seaborn as sns\n",
    "\n",
    "import warnings\n",
    "with warnings.catch_warnings():\n",
    "    warnings.filterwarnings(\"ignore\")\n",
    "\n",
    "    \n"
   ]
  },
  {
   "cell_type": "markdown",
   "metadata": {},
   "source": [
    "# Loan_2014 data"
   ]
  },
  {
   "cell_type": "code",
   "execution_count": 210,
   "metadata": {},
   "outputs": [
    {
     "name": "stderr",
     "output_type": "stream",
     "text": [
      "C:\\Users\\chloe.song\\AppData\\Local\\Continuum\\anaconda3\\lib\\site-packages\\IPython\\core\\interactiveshell.py:2785: DtypeWarning: Columns (64) have mixed types. Specify dtype option on import or set low_memory=False.\n",
      "  interactivity=interactivity, compiler=compiler, result=result)\n"
     ]
    }
   ],
   "source": [
    "df = pd.read_csv('/Users/chloe.song/Documents/Projects/DS191/11FinTech/data/loan_2014.csv') "
   ]
  },
  {
   "cell_type": "code",
   "execution_count": 131,
   "metadata": {},
   "outputs": [
    {
     "data": {
      "text/plain": [
       "array(['addrstate', 'mthssincelastdelinq', 'grade',\n",
       "       'secappmthssincelastmajorderog', 'installment', 'totalbalil',\n",
       "       'accnowdelinq', 'numtl30dpd', 'earliestcrline', 'openrv12m',\n",
       "       'collections12mthsexmed', 'openacc', 'totalbclimit',\n",
       "       'numtl90gdpd24m', 'revolbal', 'secapprevolutil',\n",
       "       'initialliststatus', 'mosinrcnttl', 'totcurbal', 'numtloppast12m',\n",
       "       'openil12m', 'emptitle', 'mthssincerecentbcdlq', 'avgcurbal',\n",
       "       'verificationstatus', 'pcttlnvrdlq', 'fundedamnt', 'delinq2yrs',\n",
       "       'totcollamt', 'percentbcgt75', 'inqlast6mths', 'numbctl',\n",
       "       'secappmortacc', 'totalilhighcreditlimit', 'mosinoldrevtlop',\n",
       "       'numactvbctl', 'homeownership', 'mthssincerecentinq', 'term',\n",
       "       'applicationtype', 'totalbalexmort', 'mortacc',\n",
       "       'numacctsever120pd', 'mosinoldilacct', 'purpose', 'annualinc',\n",
       "       'taxliens', 'openacc6m', 'numtl120dpd2m', 'secappearliestcrline',\n",
       "       'ilutil', 'mthssincercntil', 'numrevaccts', 'subgrade', 'numsats',\n",
       "       'totalacc', 'loanamnt', 'allutil', 'tothicredlim', 'bcutil',\n",
       "       'annualincjoint', 'bcopentobuy', 'inqfi', 'mosinrcntrevtlop', 'id',\n",
       "       'numrevtlbalgt0', 'revolbaljoint', 'memberid', 'emplength',\n",
       "       'openil24m', 'dti', 'mthssincelastmajorderog', 'maxbalbc',\n",
       "       'secappchargeoffwithin12mths', 'inqlast12m', 'dtijoint', 'zipcode',\n",
       "       'numactvrevtl', 'chargeoffwithin12mths', 'numiltl',\n",
       "       'secappnumrevaccts', 'numoprevtl', 'numbcsats', 'revolutil',\n",
       "       'totalrevhilim', 'mthssincelastrecord', 'verificationstatusjoint',\n",
       "       'secappinqlast6mths', 'accopenpast24mths', 'totalcutl',\n",
       "       'delinqamnt', 'secappopenactil', 'mthssincerecentrevoldelinq',\n",
       "       'mthssincerecentbc', 'openactil', 'pubrec', 'openrv24m', 'intrate',\n",
       "       'secappopenacc', 'pubrecbankruptcies',\n",
       "       'secappcollections12mthsexmed', 'issued', 'loanstatus'],\n",
       "      dtype=object)"
      ]
     },
     "execution_count": 131,
     "metadata": {},
     "output_type": "execute_result"
    }
   ],
   "source": [
    "cols = df.columns.values\n",
    "cols"
   ]
  },
  {
   "cell_type": "markdown",
   "metadata": {},
   "source": [
    "# Explore data \n",
    "Last two rows are invalid"
   ]
  },
  {
   "cell_type": "code",
   "execution_count": 132,
   "metadata": {},
   "outputs": [
    {
     "data": {
      "text/html": [
       "<div>\n",
       "<style scoped>\n",
       "    .dataframe tbody tr th:only-of-type {\n",
       "        vertical-align: middle;\n",
       "    }\n",
       "\n",
       "    .dataframe tbody tr th {\n",
       "        vertical-align: top;\n",
       "    }\n",
       "\n",
       "    .dataframe thead th {\n",
       "        text-align: right;\n",
       "    }\n",
       "</style>\n",
       "<table border=\"1\" class=\"dataframe\">\n",
       "  <thead>\n",
       "    <tr style=\"text-align: right;\">\n",
       "      <th></th>\n",
       "      <th>addrstate</th>\n",
       "      <th>mthssincelastdelinq</th>\n",
       "      <th>grade</th>\n",
       "      <th>secappmthssincelastmajorderog</th>\n",
       "      <th>installment</th>\n",
       "      <th>totalbalil</th>\n",
       "      <th>accnowdelinq</th>\n",
       "      <th>numtl30dpd</th>\n",
       "      <th>earliestcrline</th>\n",
       "      <th>openrv12m</th>\n",
       "      <th>...</th>\n",
       "      <th>mthssincerecentbc</th>\n",
       "      <th>openactil</th>\n",
       "      <th>pubrec</th>\n",
       "      <th>openrv24m</th>\n",
       "      <th>intrate</th>\n",
       "      <th>secappopenacc</th>\n",
       "      <th>pubrecbankruptcies</th>\n",
       "      <th>secappcollections12mthsexmed</th>\n",
       "      <th>issued</th>\n",
       "      <th>loanstatus</th>\n",
       "    </tr>\n",
       "  </thead>\n",
       "  <tbody>\n",
       "    <tr>\n",
       "      <th>235626</th>\n",
       "      <td>CA</td>\n",
       "      <td>13.0</td>\n",
       "      <td>A</td>\n",
       "      <td>NaN</td>\n",
       "      <td>62.59</td>\n",
       "      <td>NaN</td>\n",
       "      <td>0.0</td>\n",
       "      <td>0.0</td>\n",
       "      <td>Feb-2003</td>\n",
       "      <td>NaN</td>\n",
       "      <td>...</td>\n",
       "      <td>5.0</td>\n",
       "      <td>NaN</td>\n",
       "      <td>0.0</td>\n",
       "      <td>NaN</td>\n",
       "      <td>7.90%</td>\n",
       "      <td>NaN</td>\n",
       "      <td>0.0</td>\n",
       "      <td>NaN</td>\n",
       "      <td>Jan-2014</td>\n",
       "      <td>Fully Paid</td>\n",
       "    </tr>\n",
       "    <tr>\n",
       "      <th>235627</th>\n",
       "      <td>OH</td>\n",
       "      <td>65.0</td>\n",
       "      <td>D</td>\n",
       "      <td>NaN</td>\n",
       "      <td>514.34</td>\n",
       "      <td>NaN</td>\n",
       "      <td>0.0</td>\n",
       "      <td>0.0</td>\n",
       "      <td>Dec-2001</td>\n",
       "      <td>NaN</td>\n",
       "      <td>...</td>\n",
       "      <td>93.0</td>\n",
       "      <td>NaN</td>\n",
       "      <td>0.0</td>\n",
       "      <td>NaN</td>\n",
       "      <td>16.99%</td>\n",
       "      <td>NaN</td>\n",
       "      <td>0.0</td>\n",
       "      <td>NaN</td>\n",
       "      <td>Jan-2014</td>\n",
       "      <td>Fully Paid</td>\n",
       "    </tr>\n",
       "    <tr>\n",
       "      <th>235628</th>\n",
       "      <td>CA</td>\n",
       "      <td>9.0</td>\n",
       "      <td>D</td>\n",
       "      <td>NaN</td>\n",
       "      <td>367.58</td>\n",
       "      <td>NaN</td>\n",
       "      <td>0.0</td>\n",
       "      <td>0.0</td>\n",
       "      <td>Feb-2000</td>\n",
       "      <td>NaN</td>\n",
       "      <td>...</td>\n",
       "      <td>4.0</td>\n",
       "      <td>NaN</td>\n",
       "      <td>0.0</td>\n",
       "      <td>NaN</td>\n",
       "      <td>19.20%</td>\n",
       "      <td>NaN</td>\n",
       "      <td>0.0</td>\n",
       "      <td>NaN</td>\n",
       "      <td>Jan-2014</td>\n",
       "      <td>Fully Paid</td>\n",
       "    </tr>\n",
       "    <tr>\n",
       "      <th>235629</th>\n",
       "      <td>NaN</td>\n",
       "      <td>NaN</td>\n",
       "      <td>NaN</td>\n",
       "      <td>NaN</td>\n",
       "      <td>NaN</td>\n",
       "      <td>NaN</td>\n",
       "      <td>NaN</td>\n",
       "      <td>NaN</td>\n",
       "      <td>NaN</td>\n",
       "      <td>NaN</td>\n",
       "      <td>...</td>\n",
       "      <td>NaN</td>\n",
       "      <td>NaN</td>\n",
       "      <td>NaN</td>\n",
       "      <td>NaN</td>\n",
       "      <td>NaN</td>\n",
       "      <td>NaN</td>\n",
       "      <td>NaN</td>\n",
       "      <td>NaN</td>\n",
       "      <td>NaN</td>\n",
       "      <td>NaN</td>\n",
       "    </tr>\n",
       "    <tr>\n",
       "      <th>235630</th>\n",
       "      <td>NaN</td>\n",
       "      <td>NaN</td>\n",
       "      <td>NaN</td>\n",
       "      <td>NaN</td>\n",
       "      <td>NaN</td>\n",
       "      <td>NaN</td>\n",
       "      <td>NaN</td>\n",
       "      <td>NaN</td>\n",
       "      <td>NaN</td>\n",
       "      <td>NaN</td>\n",
       "      <td>...</td>\n",
       "      <td>NaN</td>\n",
       "      <td>NaN</td>\n",
       "      <td>NaN</td>\n",
       "      <td>NaN</td>\n",
       "      <td>NaN</td>\n",
       "      <td>NaN</td>\n",
       "      <td>NaN</td>\n",
       "      <td>NaN</td>\n",
       "      <td>NaN</td>\n",
       "      <td>NaN</td>\n",
       "    </tr>\n",
       "  </tbody>\n",
       "</table>\n",
       "<p>5 rows × 103 columns</p>\n",
       "</div>"
      ],
      "text/plain": [
       "       addrstate  mthssincelastdelinq grade  secappmthssincelastmajorderog  \\\n",
       "235626        CA                 13.0     A                            NaN   \n",
       "235627        OH                 65.0     D                            NaN   \n",
       "235628        CA                  9.0     D                            NaN   \n",
       "235629       NaN                  NaN   NaN                            NaN   \n",
       "235630       NaN                  NaN   NaN                            NaN   \n",
       "\n",
       "        installment  totalbalil  accnowdelinq  numtl30dpd earliestcrline  \\\n",
       "235626        62.59         NaN           0.0         0.0       Feb-2003   \n",
       "235627       514.34         NaN           0.0         0.0       Dec-2001   \n",
       "235628       367.58         NaN           0.0         0.0       Feb-2000   \n",
       "235629          NaN         NaN           NaN         NaN            NaN   \n",
       "235630          NaN         NaN           NaN         NaN            NaN   \n",
       "\n",
       "        openrv12m     ...      mthssincerecentbc  openactil  pubrec  \\\n",
       "235626        NaN     ...                    5.0        NaN     0.0   \n",
       "235627        NaN     ...                   93.0        NaN     0.0   \n",
       "235628        NaN     ...                    4.0        NaN     0.0   \n",
       "235629        NaN     ...                    NaN        NaN     NaN   \n",
       "235630        NaN     ...                    NaN        NaN     NaN   \n",
       "\n",
       "        openrv24m  intrate  secappopenacc pubrecbankruptcies  \\\n",
       "235626        NaN    7.90%            NaN                0.0   \n",
       "235627        NaN   16.99%            NaN                0.0   \n",
       "235628        NaN   19.20%            NaN                0.0   \n",
       "235629        NaN      NaN            NaN                NaN   \n",
       "235630        NaN      NaN            NaN                NaN   \n",
       "\n",
       "        secappcollections12mthsexmed    issued  loanstatus  \n",
       "235626                           NaN  Jan-2014  Fully Paid  \n",
       "235627                           NaN  Jan-2014  Fully Paid  \n",
       "235628                           NaN  Jan-2014  Fully Paid  \n",
       "235629                           NaN       NaN         NaN  \n",
       "235630                           NaN       NaN         NaN  \n",
       "\n",
       "[5 rows x 103 columns]"
      ]
     },
     "execution_count": 132,
     "metadata": {},
     "output_type": "execute_result"
    }
   ],
   "source": [
    "df.tail()"
   ]
  },
  {
   "cell_type": "markdown",
   "metadata": {},
   "source": [
    "## Numeric and categorical data"
   ]
  },
  {
   "cell_type": "code",
   "execution_count": 133,
   "metadata": {},
   "outputs": [
    {
     "name": "stdout",
     "output_type": "stream",
     "text": [
      "<class 'pandas.core.frame.DataFrame'>\n",
      "RangeIndex: 235631 entries, 0 to 235630\n",
      "Columns: 103 entries, addrstate to loanstatus\n",
      "dtypes: float64(85), object(18)\n",
      "memory usage: 185.2+ MB\n"
     ]
    }
   ],
   "source": [
    "df.info()"
   ]
  },
  {
   "cell_type": "code",
   "execution_count": 134,
   "metadata": {},
   "outputs": [
    {
     "data": {
      "text/plain": [
       "addrstate                             2\n",
       "mthssincelastdelinq              115883\n",
       "grade                                 2\n",
       "secappmthssincelastmajorderog    235631\n",
       "installment                           2\n",
       "totalbalil                       235631\n",
       "accnowdelinq                          2\n",
       "numtl30dpd                            2\n",
       "earliestcrline                        2\n",
       "openrv12m                        235631\n",
       "collections12mthsexmed                2\n",
       "openacc                               2\n",
       "totalbclimit                          2\n",
       "numtl90gdpd24m                        2\n",
       "revolbal                              2\n",
       "secapprevolutil                  235631\n",
       "initialliststatus                     2\n",
       "mosinrcnttl                           2\n",
       "totcurbal                             2\n",
       "numtloppast12m                        2\n",
       "openil12m                        235631\n",
       "emptitle                          13238\n",
       "mthssincerecentbcdlq             173350\n",
       "avgcurbal                             8\n",
       "verificationstatus                    2\n",
       "pcttlnvrdlq                           2\n",
       "fundedamnt                            2\n",
       "delinq2yrs                            2\n",
       "totcollamt                            2\n",
       "percentbcgt75                      2559\n",
       "                                  ...  \n",
       "secappchargeoffwithin12mths      235631\n",
       "inqlast12m                       235631\n",
       "dtijoint                         235631\n",
       "zipcode                               2\n",
       "numactvrevtl                          2\n",
       "chargeoffwithin12mths                 2\n",
       "numiltl                               2\n",
       "secappnumrevaccts                235631\n",
       "numoprevtl                            2\n",
       "numbcsats                             2\n",
       "revolutil                           127\n",
       "totalrevhilim                         2\n",
       "mthssincelastrecord              194107\n",
       "verificationstatusjoint          235631\n",
       "secappinqlast6mths               235631\n",
       "accopenpast24mths                     2\n",
       "totalcutl                        235631\n",
       "delinqamnt                            2\n",
       "secappopenactil                  235631\n",
       "mthssincerecentrevoldelinq       150865\n",
       "mthssincerecentbc                  2248\n",
       "openactil                        235631\n",
       "pubrec                                2\n",
       "openrv24m                        235631\n",
       "intrate                               2\n",
       "secappopenacc                    235631\n",
       "pubrecbankruptcies                    2\n",
       "secappcollections12mthsexmed     235631\n",
       "issued                                2\n",
       "loanstatus                            2\n",
       "Length: 103, dtype: int64"
      ]
     },
     "execution_count": 134,
     "metadata": {},
     "output_type": "execute_result"
    }
   ],
   "source": [
    "df.isnull().sum()"
   ]
  },
  {
   "cell_type": "markdown",
   "metadata": {},
   "source": [
    "## Find all_null_feature, num_feature, obj_feature"
   ]
  },
  {
   "cell_type": "code",
   "execution_count": 135,
   "metadata": {
    "scrolled": true
   },
   "outputs": [],
   "source": [
    "all_null_feature=[]\n",
    "num_feature=[]\n",
    "obj_feature=[]\n",
    "for col in cols:\n",
    "    if df[col].isnull().sum()==df.shape[0]:\n",
    "        all_null_feature.append(col)\n",
    "    else:\n",
    "        if df[col].dtype == 'object':\n",
    "            obj_feature.append(col)\n",
    "        else:\n",
    "            num_feature.append(col)\n",
    "    "
   ]
  },
  {
   "cell_type": "code",
   "execution_count": 136,
   "metadata": {},
   "outputs": [
    {
     "name": "stdout",
     "output_type": "stream",
     "text": [
      "56 18\n",
      "29\n"
     ]
    }
   ],
   "source": [
    "print (len(num_feature), len(obj_feature))\n",
    "print (len(all_null_feature))"
   ]
  },
  {
   "cell_type": "code",
   "execution_count": 137,
   "metadata": {},
   "outputs": [
    {
     "data": {
      "text/plain": [
       "['secappmthssincelastmajorderog',\n",
       " 'totalbalil',\n",
       " 'openrv12m',\n",
       " 'secapprevolutil',\n",
       " 'openil12m',\n",
       " 'secappmortacc',\n",
       " 'openacc6m',\n",
       " 'secappearliestcrline',\n",
       " 'ilutil',\n",
       " 'mthssincercntil',\n",
       " 'allutil',\n",
       " 'annualincjoint',\n",
       " 'inqfi',\n",
       " 'revolbaljoint',\n",
       " 'memberid',\n",
       " 'openil24m',\n",
       " 'maxbalbc',\n",
       " 'secappchargeoffwithin12mths',\n",
       " 'inqlast12m',\n",
       " 'dtijoint',\n",
       " 'secappnumrevaccts',\n",
       " 'verificationstatusjoint',\n",
       " 'secappinqlast6mths',\n",
       " 'totalcutl',\n",
       " 'secappopenactil',\n",
       " 'openactil',\n",
       " 'openrv24m',\n",
       " 'secappopenacc',\n",
       " 'secappcollections12mthsexmed']"
      ]
     },
     "execution_count": 137,
     "metadata": {},
     "output_type": "execute_result"
    }
   ],
   "source": [
    "all_null_feature"
   ]
  },
  {
   "cell_type": "code",
   "execution_count": 138,
   "metadata": {
    "scrolled": true
   },
   "outputs": [
    {
     "data": {
      "text/plain": [
       "['addrstate',\n",
       " 'grade',\n",
       " 'earliestcrline',\n",
       " 'initialliststatus',\n",
       " 'emptitle',\n",
       " 'verificationstatus',\n",
       " 'homeownership',\n",
       " 'term',\n",
       " 'applicationtype',\n",
       " 'purpose',\n",
       " 'subgrade',\n",
       " 'id',\n",
       " 'emplength',\n",
       " 'zipcode',\n",
       " 'revolutil',\n",
       " 'intrate',\n",
       " 'issued',\n",
       " 'loanstatus']"
      ]
     },
     "execution_count": 138,
     "metadata": {},
     "output_type": "execute_result"
    }
   ],
   "source": [
    "obj_feature"
   ]
  },
  {
   "cell_type": "code",
   "execution_count": 139,
   "metadata": {},
   "outputs": [
    {
     "data": {
      "text/plain": [
       "['mthssincelastdelinq',\n",
       " 'installment',\n",
       " 'accnowdelinq',\n",
       " 'numtl30dpd',\n",
       " 'collections12mthsexmed',\n",
       " 'openacc',\n",
       " 'totalbclimit',\n",
       " 'numtl90gdpd24m',\n",
       " 'revolbal',\n",
       " 'mosinrcnttl',\n",
       " 'totcurbal',\n",
       " 'numtloppast12m',\n",
       " 'mthssincerecentbcdlq',\n",
       " 'avgcurbal',\n",
       " 'pcttlnvrdlq',\n",
       " 'fundedamnt',\n",
       " 'delinq2yrs',\n",
       " 'totcollamt',\n",
       " 'percentbcgt75',\n",
       " 'inqlast6mths',\n",
       " 'numbctl',\n",
       " 'totalilhighcreditlimit',\n",
       " 'mosinoldrevtlop',\n",
       " 'numactvbctl',\n",
       " 'mthssincerecentinq',\n",
       " 'totalbalexmort',\n",
       " 'mortacc',\n",
       " 'numacctsever120pd',\n",
       " 'mosinoldilacct',\n",
       " 'annualinc',\n",
       " 'taxliens',\n",
       " 'numtl120dpd2m',\n",
       " 'numrevaccts',\n",
       " 'numsats',\n",
       " 'totalacc',\n",
       " 'loanamnt',\n",
       " 'tothicredlim',\n",
       " 'bcutil',\n",
       " 'bcopentobuy',\n",
       " 'mosinrcntrevtlop',\n",
       " 'numrevtlbalgt0',\n",
       " 'dti',\n",
       " 'mthssincelastmajorderog',\n",
       " 'numactvrevtl',\n",
       " 'chargeoffwithin12mths',\n",
       " 'numiltl',\n",
       " 'numoprevtl',\n",
       " 'numbcsats',\n",
       " 'totalrevhilim',\n",
       " 'mthssincelastrecord',\n",
       " 'accopenpast24mths',\n",
       " 'delinqamnt',\n",
       " 'mthssincerecentrevoldelinq',\n",
       " 'mthssincerecentbc',\n",
       " 'pubrec',\n",
       " 'pubrecbankruptcies']"
      ]
     },
     "execution_count": 139,
     "metadata": {},
     "output_type": "execute_result"
    }
   ],
   "source": [
    "num_feature"
   ]
  },
  {
   "cell_type": "code",
   "execution_count": 140,
   "metadata": {},
   "outputs": [
    {
     "name": "stdout",
     "output_type": "stream",
     "text": [
      "initialliststatus\n",
      "2\n"
     ]
    },
    {
     "data": {
      "text/plain": [
       "w    123473\n",
       "f    112156\n",
       "Name: initialliststatus, dtype: int64"
      ]
     },
     "execution_count": 140,
     "metadata": {},
     "output_type": "execute_result"
    }
   ],
   "source": [
    "i=3\n",
    "feat = obj_feature[i]\n",
    "print (feat)\n",
    "\n",
    "print (df[feat].isnull().sum()) # initialliststatus 有2个空值\n",
    "\n",
    "df[feat].value_counts()\n"
   ]
  },
  {
   "cell_type": "code",
   "execution_count": 21,
   "metadata": {},
   "outputs": [
    {
     "name": "stdout",
     "output_type": "stream",
     "text": [
      "grade\n",
      "2\n"
     ]
    },
    {
     "data": {
      "text/plain": [
       "C    66565\n",
       "B    61935\n",
       "D    42992\n",
       "A    36108\n",
       "E    20121\n",
       "F     6223\n",
       "G     1685\n",
       "Name: grade, dtype: int64"
      ]
     },
     "execution_count": 21,
     "metadata": {},
     "output_type": "execute_result"
    }
   ],
   "source": [
    "i=1\n",
    "feat = obj_feature[i]\n",
    "print (feat)\n",
    "print (df[feat].isnull().sum()) # grade 有2个空值\n",
    "df[feat].value_counts()"
   ]
  },
  {
   "cell_type": "code",
   "execution_count": 25,
   "metadata": {},
   "outputs": [
    {
     "name": "stdout",
     "output_type": "stream",
     "text": [
      "term\n",
      "2\n"
     ]
    },
    {
     "data": {
      "text/plain": [
       " 36 months    162570\n",
       " 60 months     73059\n",
       "Name: term, dtype: int64"
      ]
     },
     "execution_count": 25,
     "metadata": {},
     "output_type": "execute_result"
    }
   ],
   "source": [
    "i=7\n",
    "feat = obj_feature[i]\n",
    "print (feat)\n",
    "print (df[feat].isnull().sum())\n",
    "df[feat].value_counts()"
   ]
  },
  {
   "cell_type": "code",
   "execution_count": 30,
   "metadata": {},
   "outputs": [
    {
     "name": "stdout",
     "output_type": "stream",
     "text": [
      "earliestcrline\n",
      "2\n"
     ]
    },
    {
     "data": {
      "text/plain": [
       "Aug-2001    1980\n",
       "Aug-2000    1945\n",
       "Sep-2000    1719\n",
       "Aug-2002    1711\n",
       "Aug-1999    1696\n",
       "Oct-2000    1658\n",
       "Sep-1999    1642\n",
       "Sep-2002    1574\n",
       "Oct-2001    1574\n",
       "Sep-2001    1562\n",
       "Oct-1999    1543\n",
       "Nov-1999    1525\n",
       "Sep-1998    1505\n",
       "Oct-2002    1472\n",
       "Nov-2000    1468\n",
       "Mar-2001    1452\n",
       "Nov-2001    1440\n",
       "Jul-2001    1421\n",
       "Sep-2003    1415\n",
       "Mar-2000    1399\n",
       "Aug-2003    1389\n",
       "May-2001    1384\n",
       "Oct-1998    1371\n",
       "Jul-2002    1370\n",
       "Jun-2000    1366\n",
       "Jun-2001    1356\n",
       "Jul-2000    1351\n",
       "Apr-2001    1347\n",
       "Oct-2003    1327\n",
       "Aug-1998    1312\n",
       "            ... \n",
       "Jul-1958       1\n",
       "Aug-1958       1\n",
       "Mar-1960       1\n",
       "May-1963       1\n",
       "Mar-1959       1\n",
       "Aug-1961       1\n",
       "Mar-1962       1\n",
       "Dec-1963       1\n",
       "Sep-1957       1\n",
       "Oct-1962       1\n",
       "Mar-1961       1\n",
       "May-1950       1\n",
       "Apr-1962       1\n",
       "Jan-1954       1\n",
       "Feb-1961       1\n",
       "Jan-1948       1\n",
       "Jul-1961       1\n",
       "Nov-1954       1\n",
       "Oct-1958       1\n",
       "Jan-1953       1\n",
       "May-1958       1\n",
       "Aug-1962       1\n",
       "Aug-1946       1\n",
       "Aug-1960       1\n",
       "Oct-1950       1\n",
       "Jan-1944       1\n",
       "Dec-1956       1\n",
       "Sep-1963       1\n",
       "Jun-1949       1\n",
       "Feb-1963       1\n",
       "Name: earliestcrline, Length: 638, dtype: int64"
      ]
     },
     "execution_count": 30,
     "metadata": {},
     "output_type": "execute_result"
    }
   ],
   "source": [
    "# earliestcrline: The date the borrower's earliest reported credit line was opened\n",
    "\n",
    "# date format, convert to time difference, eg, months to 2015 and thus is a numeric feature\n",
    "\n",
    "i= 2\n",
    "feat = obj_feature[i]\n",
    "print (feat)\n",
    "print (df[feat].isnull().sum())\n",
    "df[feat].value_counts()"
   ]
  },
  {
   "cell_type": "code",
   "execution_count": 31,
   "metadata": {},
   "outputs": [
    {
     "name": "stdout",
     "output_type": "stream",
     "text": [
      "applicationtype\n",
      "2\n"
     ]
    },
    {
     "data": {
      "text/plain": [
       "Individual    235629\n",
       "Name: applicationtype, dtype: int64"
      ]
     },
     "execution_count": 31,
     "metadata": {},
     "output_type": "execute_result"
    }
   ],
   "source": [
    "# applicationtype: whether the loan is an individual application or a joint application with two co-borrowers\n",
    "# all \"individual\", that is the reason for all join-stuff are NA\n",
    "i=8\n",
    "feat = obj_feature[i]\n",
    "print (feat)\n",
    "print (df[feat].isnull().sum())\n",
    "df[feat].value_counts()"
   ]
  },
  {
   "cell_type": "code",
   "execution_count": 32,
   "metadata": {},
   "outputs": [
    {
     "name": "stdout",
     "output_type": "stream",
     "text": [
      "intrate\n",
      "2\n"
     ]
    },
    {
     "data": {
      "text/plain": [
       " 12.99%    12630\n",
       " 10.99%    10684\n",
       " 15.61%    10309\n",
       " 12.49%     9704\n",
       " 13.98%     8855\n",
       " 14.99%     8101\n",
       " 17.57%     7686\n",
       " 13.35%     7620\n",
       " 11.67%     7255\n",
       " 14.49%     7243\n",
       " 11.99%     6199\n",
       " 10.15%     6116\n",
       " 16.99%     5946\n",
       "  9.17%     5656\n",
       "  8.39%     5575\n",
       " 16.29%     5414\n",
       "  6.03%     5146\n",
       "  7.69%     4962\n",
       "  6.49%     4026\n",
       " 18.24%     3597\n",
       "  9.67%     3455\n",
       "  8.90%     3384\n",
       " 18.99%     3214\n",
       "  7.12%     3055\n",
       " 14.64%     3029\n",
       " 14.16%     2952\n",
       " 19.52%     2926\n",
       "  7.90%     2885\n",
       " 15.31%     2838\n",
       " 13.65%     2753\n",
       "           ...  \n",
       " 20.49%      983\n",
       " 17.14%      974\n",
       " 16.49%      968\n",
       " 24.99%      963\n",
       " 21.99%      916\n",
       " 21.18%      858\n",
       "  6.99%      855\n",
       " 17.86%      765\n",
       " 18.54%      720\n",
       " 19.22%      663\n",
       " 25.57%      647\n",
       " 19.24%      588\n",
       " 22.45%      558\n",
       " 25.80%      526\n",
       " 19.97%      517\n",
       " 20.50%      470\n",
       " 25.83%      426\n",
       " 21.48%      332\n",
       " 25.89%      305\n",
       " 22.40%      276\n",
       " 22.99%      241\n",
       " 23.40%      214\n",
       " 25.99%      214\n",
       " 26.06%      212\n",
       " 22.90%      212\n",
       " 23.99%      179\n",
       " 23.70%      163\n",
       "  6.00%       82\n",
       " 19.20%        1\n",
       " 17.50%        1\n",
       "Name: intrate, Length: 89, dtype: int64"
      ]
     },
     "execution_count": 32,
     "metadata": {},
     "output_type": "execute_result"
    }
   ],
   "source": [
    "#intrate: Interest Rate on the loan\n",
    "\n",
    "i=15\n",
    "feat = obj_feature[i]\n",
    "print (feat)\n",
    "print (df[feat].isnull().sum())\n",
    "df[feat].value_counts()"
   ]
  },
  {
   "cell_type": "code",
   "execution_count": 49,
   "metadata": {},
   "outputs": [
    {
     "data": {
      "text/plain": [
       "'\\n# desc: Loan description provided by the borrower\\n# only 15279 not null values, and involv NLP. simply drop it, or make it classify them to null and not_null, short v.s. long\\n# this part might be quite similar to the purpose feature, which is quite important.\\n\\ni=6\\nfeat = obj_feature[i]\\nprint (feat)\\nprint (df[feat].isnull().sum())\\ndf[feat].value_counts()\\n\\n'"
      ]
     },
     "execution_count": 49,
     "metadata": {},
     "output_type": "execute_result"
    }
   ],
   "source": [
    "'''\n",
    "# desc: Loan description provided by the borrower\n",
    "# only 15279 not null values, and involv NLP. simply drop it, or make it classify them to null and not_null, short v.s. long\n",
    "# this part might be quite similar to the purpose feature, which is quite important.\n",
    "\n",
    "i=6\n",
    "feat = obj_feature[i]\n",
    "print (feat)\n",
    "print (df[feat].isnull().sum())\n",
    "df[feat].value_counts()\n",
    "\n",
    "'''\n"
   ]
  },
  {
   "cell_type": "code",
   "execution_count": 34,
   "metadata": {},
   "outputs": [
    {
     "name": "stdout",
     "output_type": "stream",
     "text": [
      "term\n",
      "2\n",
      " 36 months    0.689941\n",
      " 60 months    0.310059\n",
      "Name: term, dtype: float64\n"
     ]
    },
    {
     "data": {
      "text/plain": [
       " 36 months    162570\n",
       " 60 months     73059\n",
       "Name: term, dtype: int64"
      ]
     },
     "execution_count": 34,
     "metadata": {},
     "output_type": "execute_result"
    }
   ],
   "source": [
    "# only use 36 months data for our project\n",
    "i=7\n",
    "feat = obj_feature[i]\n",
    "print (feat)\n",
    "print (df[feat].isnull().sum())\n",
    "print (df.term.value_counts(normalize=True))\n",
    "df[feat].value_counts()"
   ]
  },
  {
   "cell_type": "code",
   "execution_count": 35,
   "metadata": {},
   "outputs": [
    {
     "name": "stdout",
     "output_type": "stream",
     "text": [
      "homeownership\n",
      "2\n"
     ]
    },
    {
     "data": {
      "text/plain": [
       "MORTGAGE    119937\n",
       "RENT         92684\n",
       "OWN          23007\n",
       "ANY              1\n",
       "Name: homeownership, dtype: int64"
      ]
     },
     "execution_count": 35,
     "metadata": {},
     "output_type": "execute_result"
    }
   ],
   "source": [
    "# one hot encoding, but ignore the 1 data point ANY?\n",
    "i=6\n",
    "feat = obj_feature[i]\n",
    "print (feat)\n",
    "print (df[feat].isnull().sum())\n",
    "df[feat].value_counts()"
   ]
  },
  {
   "cell_type": "code",
   "execution_count": 36,
   "metadata": {},
   "outputs": [
    {
     "name": "stdout",
     "output_type": "stream",
     "text": [
      "addrstate\n",
      "2\n",
      "49 CA    33288\n",
      "NY    19923\n",
      "TX    18967\n",
      "FL    15691\n",
      "IL     9628\n",
      "NJ     8863\n",
      "PA     8427\n",
      "OH     8011\n",
      "GA     7600\n",
      "VA     6965\n",
      "NC     6442\n",
      "MI     6205\n",
      "MD     5564\n",
      "AZ     5507\n",
      "MA     5232\n",
      "WA     5118\n",
      "CO     4929\n",
      "MN     4276\n",
      "IN     4206\n",
      "TN     3907\n",
      "MO     3788\n",
      "CT     3483\n",
      "NV     3225\n",
      "WI     3101\n",
      "AL     3034\n",
      "SC     2971\n",
      "OR     2912\n",
      "LA     2761\n",
      "KY     2379\n",
      "OK     2118\n",
      "KS     2103\n",
      "AR     1806\n",
      "UT     1669\n",
      "NM     1367\n",
      "WV     1311\n",
      "MS     1197\n",
      "HI     1196\n",
      "NH     1155\n",
      "RI     1043\n",
      "MT      731\n",
      "DE      661\n",
      "DC      637\n",
      "AK      598\n",
      "WY      583\n",
      "VT      542\n",
      "SD      506\n",
      "ME        1\n",
      "IA        1\n",
      "ID        1\n",
      "Name: addrstate, dtype: int64\n"
     ]
    }
   ],
   "source": [
    "# 49 states, can generate frequency and leave-one-out encoding\n",
    "i=0\n",
    "feat = obj_feature[i]\n",
    "print (feat)\n",
    "print (df[feat].isnull().sum())\n",
    "print (len(df[feat].value_counts()), df[feat].value_counts())"
   ]
  },
  {
   "cell_type": "code",
   "execution_count": 37,
   "metadata": {},
   "outputs": [
    {
     "name": "stdout",
     "output_type": "stream",
     "text": [
      "revolutil\n",
      "127\n",
      "1160 0%        590\n",
      "59%       520\n",
      "58%       515\n",
      "53%       512\n",
      "48%       485\n",
      "50%       483\n",
      "55%       479\n",
      "54%       472\n",
      "57%       472\n",
      "46%       471\n",
      "52%       467\n",
      "61%       466\n",
      "62%       466\n",
      "47%       462\n",
      "51%       457\n",
      "60%       451\n",
      "67%       450\n",
      "65%       442\n",
      "49%       441\n",
      "63%       441\n",
      "64%       438\n",
      "40%       436\n",
      "66%       429\n",
      "68%       428\n",
      "43%       428\n",
      "56%       428\n",
      "44%       423\n",
      "69%       422\n",
      "41%       421\n",
      "45%       416\n",
      "         ... \n",
      "134.3%      1\n",
      "113.3%      1\n",
      "106.7%      1\n",
      "150.7%      1\n",
      "113.7%      1\n",
      "117.5%      1\n",
      "129.4%      1\n",
      "115.1%      1\n",
      "104%        1\n",
      "108%        1\n",
      "110.5%      1\n",
      "127%        1\n",
      "121.1%      1\n",
      "120%        1\n",
      "127.4%      1\n",
      "180.3%      1\n",
      "114%        1\n",
      "129.5%      1\n",
      "107.5%      1\n",
      "366.6%      1\n",
      "148%        1\n",
      "119.1%      1\n",
      "111.3%      1\n",
      "113.1%      1\n",
      "105.4%      1\n",
      "111.5%      1\n",
      "112.9%      1\n",
      "106%        1\n",
      "141.8%      1\n",
      "113.8%      1\n",
      "Name: revolutil, Length: 1160, dtype: int64\n"
     ]
    }
   ],
   "source": [
    "i=14\n",
    "feat = obj_feature[i]\n",
    "print (feat)\n",
    "print (df[feat].isnull().sum())\n",
    "print (len(df[feat].value_counts()), df[feat].value_counts())"
   ]
  },
  {
   "cell_type": "code",
   "execution_count": 38,
   "metadata": {},
   "outputs": [
    {
     "name": "stdout",
     "output_type": "stream",
     "text": [
      "id\n",
      "235629\n"
     ]
    },
    {
     "data": {
      "text/plain": [
       "2"
      ]
     },
     "execution_count": 38,
     "metadata": {},
     "output_type": "execute_result"
    }
   ],
   "source": [
    "i=11\n",
    "feat = obj_feature[i]\n",
    "print (feat)\n",
    "print (df[feat].isnull().sum())\n",
    "(len(df[feat].value_counts()) )"
   ]
  },
  {
   "cell_type": "code",
   "execution_count": 39,
   "metadata": {},
   "outputs": [
    {
     "name": "stdout",
     "output_type": "stream",
     "text": [
      "zipcode\n",
      "2\n",
      "866 750xx    2546\n",
      "945xx    2418\n",
      "112xx    2382\n",
      "606xx    2273\n",
      "300xx    2085\n",
      "Name: zipcode, dtype: int64 093xx    1\n",
      "523xx    1\n",
      "008xx    1\n",
      "889xx    1\n",
      "682xx    1\n",
      "Name: zipcode, dtype: int64\n"
     ]
    }
   ],
   "source": [
    "# only keep first 3 digits, 866 values, use frequency and leave on out encoding\n",
    "i=13\n",
    "feat = obj_feature[i]\n",
    "print (feat)\n",
    "print (df[feat].isnull().sum())\n",
    "print (len(df[feat].value_counts()), df[feat].value_counts()[:5], df[feat].value_counts()[-5:])"
   ]
  },
  {
   "cell_type": "code",
   "execution_count": 40,
   "metadata": {},
   "outputs": [
    {
     "name": "stdout",
     "output_type": "stream",
     "text": [
      "verificationstatus\n",
      "2\n",
      "3 Source Verified    99887\n",
      "Not Verified       68513\n",
      "Verified           67229\n",
      "Name: verificationstatus, dtype: int64\n"
     ]
    }
   ],
   "source": [
    "i=5\n",
    "feat = obj_feature[i]\n",
    "print (feat)\n",
    "print (df[feat].isnull().sum())\n",
    "print (len(df[feat].value_counts()) , df[feat].value_counts()[:5]) "
   ]
  },
  {
   "cell_type": "code",
   "execution_count": 44,
   "metadata": {},
   "outputs": [
    {
     "name": "stdout",
     "output_type": "stream",
     "text": [
      "emptitle\n",
      "13238\n",
      "75352 Teacher                     4569\n",
      "Manager                     3772\n",
      "Registered Nurse            1960\n",
      "RN                          1816\n",
      "Supervisor                  1663\n",
      "Owner                       1512\n",
      "Sales                       1406\n",
      "Project Manager             1368\n",
      "Office Manager              1185\n",
      "manager                     1115\n",
      "Driver                      1111\n",
      "General Manager             1055\n",
      "teacher                     1028\n",
      "Director                    1000\n",
      "Engineer                     870\n",
      "President                    852\n",
      "owner                        850\n",
      "Vice President               827\n",
      "driver                       822\n",
      "Attorney                     708\n",
      "Administrative Assistant     706\n",
      "Operations Manager           699\n",
      "Accountant                   663\n",
      "supervisor                   653\n",
      "Police Officer               627\n",
      "sales                        613\n",
      "Sales Manager                592\n",
      "Account Manager              566\n",
      "Executive Assistant          564\n",
      "Store Manager                562\n",
      "Name: emptitle, dtype: int64\n"
     ]
    }
   ],
   "source": [
    "# has 13236 NAs, can do frequency and simple NLP\n",
    "i=4\n",
    "feat = obj_feature[i]\n",
    "print (feat)\n",
    "print (df[feat].isnull().sum())\n",
    "print (len(df[feat].value_counts()) , df[feat].value_counts()[:30])"
   ]
  },
  {
   "cell_type": "code",
   "execution_count": 45,
   "metadata": {},
   "outputs": [
    {
     "name": "stdout",
     "output_type": "stream",
     "text": [
      "emplength\n",
      "12021\n",
      "11 10+ years    79505\n",
      "2 years      20487\n",
      "3 years      18267\n",
      "< 1 year     17982\n",
      "1 year       14593\n",
      "4 years      13528\n",
      "7 years      13099\n",
      "5 years      13051\n",
      "8 years      11853\n",
      "6 years      11821\n",
      "9 years       9424\n",
      "Name: emplength, dtype: int64\n"
     ]
    }
   ],
   "source": [
    "# 12 values, n/a, <1 year, 1~9 year(s), 10+ years, convert to num\n",
    "i=12\n",
    "feat = obj_feature[i]\n",
    "print (feat)\n",
    "print (df[feat].isnull().sum())\n",
    "print (len(df[feat].value_counts()) , df[feat].value_counts()[:12] )"
   ]
  },
  {
   "cell_type": "code",
   "execution_count": 46,
   "metadata": {},
   "outputs": [
    {
     "name": "stdout",
     "output_type": "stream",
     "text": [
      "purpose\n",
      "2\n",
      "13 debt_consolidation    143006\n",
      "credit_card            55522\n",
      "home_improvement       13045\n",
      "other                  10371\n",
      "major_purchase          3858\n",
      "medical                 2331\n",
      "small_business          2277\n",
      "car                     1832\n",
      "moving                  1328\n",
      "vacation                1178\n",
      "house                    750\n",
      "renewable_energy         123\n",
      "wedding                    8\n",
      "Name: purpose, dtype: int64\n"
     ]
    }
   ],
   "source": [
    "i=9\n",
    "feat = obj_feature[i]\n",
    "print (feat)\n",
    "print (df[feat].isnull().sum())\n",
    "print (len(df[feat].value_counts()) , df[feat].value_counts()[:15] )"
   ]
  },
  {
   "cell_type": "code",
   "execution_count": 47,
   "metadata": {},
   "outputs": [
    {
     "name": "stdout",
     "output_type": "stream",
     "text": [
      "issued\n",
      "2\n",
      "12 Oct-2014    38783\n",
      "Jul-2014    29306\n",
      "Nov-2014    25054\n",
      "May-2014    19099\n",
      "Apr-2014    19071\n",
      "Aug-2014    18814\n",
      "Jun-2014    17179\n",
      "Mar-2014    16513\n",
      "Jan-2014    15628\n",
      "Feb-2014    15269\n",
      "Sep-2014    10606\n",
      "Dec-2014    10307\n",
      "Name: issued, dtype: int64\n"
     ]
    }
   ],
   "source": [
    "i=16\n",
    "feat = obj_feature[i]\n",
    "print (feat)\n",
    "print (df[feat].isnull().sum())\n",
    "print (len(df[feat].value_counts()) , df[feat].value_counts()[:15] )"
   ]
  },
  {
   "cell_type": "code",
   "execution_count": 141,
   "metadata": {},
   "outputs": [
    {
     "name": "stdout",
     "output_type": "stream",
     "text": [
      "loanstatus\n",
      "2\n",
      "6 Fully Paid            183348\n",
      "Charged Off            41258\n",
      "Current                10498\n",
      "Late (31-120 days)       285\n",
      "In Grace Period          184\n",
      "Late (16-30 days)         56\n",
      "Name: loanstatus, dtype: int64\n"
     ]
    }
   ],
   "source": [
    "i=17\n",
    "feat = obj_feature[i]\n",
    "print (feat)\n",
    "print (df[feat].isnull().sum())\n",
    "print (len(df[feat].value_counts()) , df[feat].value_counts()[:15] )"
   ]
  },
  {
   "cell_type": "markdown",
   "metadata": {},
   "source": [
    "# EDA\n",
    "## For an issued loan, fundedamnt=loanamnt, drop fundedamnt"
   ]
  },
  {
   "cell_type": "code",
   "execution_count": 201,
   "metadata": {
    "scrolled": true
   },
   "outputs": [
    {
     "name": "stderr",
     "output_type": "stream",
     "text": [
      "C:\\Users\\chloe.song\\AppData\\Local\\Continuum\\anaconda3\\lib\\site-packages\\ipykernel_launcher.py:2: UserWarning: Pandas doesn't allow columns to be created via a new attribute name - see https://pandas.pydata.org/pandas-docs/stable/indexing.html#attribute-access\n",
      "  \n"
     ]
    },
    {
     "data": {
      "text/html": [
       "<div>\n",
       "<style scoped>\n",
       "    .dataframe tbody tr th:only-of-type {\n",
       "        vertical-align: middle;\n",
       "    }\n",
       "\n",
       "    .dataframe tbody tr th {\n",
       "        vertical-align: top;\n",
       "    }\n",
       "\n",
       "    .dataframe thead th {\n",
       "        text-align: right;\n",
       "    }\n",
       "</style>\n",
       "<table border=\"1\" class=\"dataframe\">\n",
       "  <thead>\n",
       "    <tr style=\"text-align: right;\">\n",
       "      <th></th>\n",
       "      <th>fundedamnt</th>\n",
       "      <th>loanamnt</th>\n",
       "    </tr>\n",
       "  </thead>\n",
       "  <tbody>\n",
       "    <tr>\n",
       "      <th>0</th>\n",
       "      <td>10400.0</td>\n",
       "      <td>10400.0</td>\n",
       "    </tr>\n",
       "    <tr>\n",
       "      <th>1</th>\n",
       "      <td>15000.0</td>\n",
       "      <td>15000.0</td>\n",
       "    </tr>\n",
       "    <tr>\n",
       "      <th>2</th>\n",
       "      <td>9600.0</td>\n",
       "      <td>9600.0</td>\n",
       "    </tr>\n",
       "    <tr>\n",
       "      <th>3</th>\n",
       "      <td>7650.0</td>\n",
       "      <td>7650.0</td>\n",
       "    </tr>\n",
       "    <tr>\n",
       "      <th>4</th>\n",
       "      <td>12800.0</td>\n",
       "      <td>12800.0</td>\n",
       "    </tr>\n",
       "    <tr>\n",
       "      <th>5</th>\n",
       "      <td>21425.0</td>\n",
       "      <td>21425.0</td>\n",
       "    </tr>\n",
       "    <tr>\n",
       "      <th>6</th>\n",
       "      <td>17000.0</td>\n",
       "      <td>17000.0</td>\n",
       "    </tr>\n",
       "    <tr>\n",
       "      <th>7</th>\n",
       "      <td>23325.0</td>\n",
       "      <td>23325.0</td>\n",
       "    </tr>\n",
       "    <tr>\n",
       "      <th>8</th>\n",
       "      <td>2500.0</td>\n",
       "      <td>2500.0</td>\n",
       "    </tr>\n",
       "    <tr>\n",
       "      <th>9</th>\n",
       "      <td>12975.0</td>\n",
       "      <td>12975.0</td>\n",
       "    </tr>\n",
       "  </tbody>\n",
       "</table>\n",
       "</div>"
      ],
      "text/plain": [
       "   fundedamnt  loanamnt\n",
       "0     10400.0   10400.0\n",
       "1     15000.0   15000.0\n",
       "2      9600.0    9600.0\n",
       "3      7650.0    7650.0\n",
       "4     12800.0   12800.0\n",
       "5     21425.0   21425.0\n",
       "6     17000.0   17000.0\n",
       "7     23325.0   23325.0\n",
       "8      2500.0    2500.0\n",
       "9     12975.0   12975.0"
      ]
     },
     "execution_count": 201,
     "metadata": {},
     "output_type": "execute_result"
    },
    {
     "data": {
      "image/png": "[encoded data removed]",
      "text/plain": [
       "<Figure size 432x288 with 1 Axes>"
      ]
     },
     "metadata": {},
     "output_type": "display_data"
    }
   ],
   "source": [
    "\n",
    "df.ratio = df.fundedamnt/df.loanamnt.astype(float,3)\n",
    "\n",
    "\n",
    "df.ratio.hist(bins=100)\n",
    "df[['fundedamnt','loanamnt']][:10]"
   ]
  },
  {
   "cell_type": "markdown",
   "metadata": {},
   "source": [
    "## Installment Histogram"
   ]
  },
  {
   "cell_type": "code",
   "execution_count": 143,
   "metadata": {},
   "outputs": [
    {
     "data": {
      "text/plain": [
       "<matplotlib.axes._subplots.AxesSubplot at 0x1c913062cc0>"
      ]
     },
     "execution_count": 143,
     "metadata": {},
     "output_type": "execute_result"
    },
    {
     "data": {
      "image/png": "[encoded data removed]",
      "text/plain": [
       "<Figure size 432x288 with 1 Axes>"
      ]
     },
     "metadata": {},
     "output_type": "display_data"
    }
   ],
   "source": [
    "df.installment.hist(bins=100)"
   ]
  },
  {
   "cell_type": "markdown",
   "metadata": {},
   "source": [
    "##### Meanr response"
   ]
  },
  {
   "cell_type": "code",
   "execution_count": 214,
   "metadata": {},
   "outputs": [],
   "source": [
    "df = df.query(\"loanstatus == 'Fully Paid' or loanstatus == 'Charged Off' \")\n",
    "df['loanstatus'] = df.loanstatus.map({\"Charged Off\": 1, \"Fully Paid\": 0})\n"
   ]
  },
  {
   "cell_type": "code",
   "execution_count": 217,
   "metadata": {},
   "outputs": [
    {
     "data": {
      "text/html": [
       "<div>\n",
       "<style scoped>\n",
       "    .dataframe tbody tr th:only-of-type {\n",
       "        vertical-align: middle;\n",
       "    }\n",
       "\n",
       "    .dataframe tbody tr th {\n",
       "        vertical-align: top;\n",
       "    }\n",
       "\n",
       "    .dataframe thead th {\n",
       "        text-align: right;\n",
       "    }\n",
       "</style>\n",
       "<table border=\"1\" class=\"dataframe\">\n",
       "  <thead>\n",
       "    <tr style=\"text-align: right;\">\n",
       "      <th></th>\n",
       "      <th>addrstate</th>\n",
       "      <th>mthssincelastdelinq</th>\n",
       "      <th>grade</th>\n",
       "      <th>secappmthssincelastmajorderog</th>\n",
       "      <th>installment</th>\n",
       "      <th>totalbalil</th>\n",
       "      <th>accnowdelinq</th>\n",
       "      <th>numtl30dpd</th>\n",
       "      <th>earliestcrline</th>\n",
       "      <th>openrv12m</th>\n",
       "      <th>...</th>\n",
       "      <th>mthssincerecentbc</th>\n",
       "      <th>openactil</th>\n",
       "      <th>pubrec</th>\n",
       "      <th>openrv24m</th>\n",
       "      <th>intrate</th>\n",
       "      <th>secappopenacc</th>\n",
       "      <th>pubrecbankruptcies</th>\n",
       "      <th>secappcollections12mthsexmed</th>\n",
       "      <th>issued</th>\n",
       "      <th>loanstatus</th>\n",
       "    </tr>\n",
       "  </thead>\n",
       "  <tbody>\n",
       "    <tr>\n",
       "      <th>0</th>\n",
       "      <td>CA</td>\n",
       "      <td>42.0</td>\n",
       "      <td>A</td>\n",
       "      <td>NaN</td>\n",
       "      <td>321.08</td>\n",
       "      <td>NaN</td>\n",
       "      <td>0.0</td>\n",
       "      <td>0.0</td>\n",
       "      <td>Sep-1989</td>\n",
       "      <td>NaN</td>\n",
       "      <td>...</td>\n",
       "      <td>5.0</td>\n",
       "      <td>NaN</td>\n",
       "      <td>0.0</td>\n",
       "      <td>NaN</td>\n",
       "      <td>6.99%</td>\n",
       "      <td>NaN</td>\n",
       "      <td>0.0</td>\n",
       "      <td>NaN</td>\n",
       "      <td>Dec-2014</td>\n",
       "      <td>1</td>\n",
       "    </tr>\n",
       "    <tr>\n",
       "      <th>1</th>\n",
       "      <td>VA</td>\n",
       "      <td>NaN</td>\n",
       "      <td>C</td>\n",
       "      <td>NaN</td>\n",
       "      <td>336.64</td>\n",
       "      <td>NaN</td>\n",
       "      <td>0.0</td>\n",
       "      <td>0.0</td>\n",
       "      <td>Aug-1994</td>\n",
       "      <td>NaN</td>\n",
       "      <td>...</td>\n",
       "      <td>47.0</td>\n",
       "      <td>NaN</td>\n",
       "      <td>0.0</td>\n",
       "      <td>NaN</td>\n",
       "      <td>12.39%</td>\n",
       "      <td>NaN</td>\n",
       "      <td>0.0</td>\n",
       "      <td>NaN</td>\n",
       "      <td>Dec-2014</td>\n",
       "      <td>0</td>\n",
       "    </tr>\n",
       "    <tr>\n",
       "      <th>2</th>\n",
       "      <td>NJ</td>\n",
       "      <td>NaN</td>\n",
       "      <td>C</td>\n",
       "      <td>NaN</td>\n",
       "      <td>326.53</td>\n",
       "      <td>NaN</td>\n",
       "      <td>0.0</td>\n",
       "      <td>0.0</td>\n",
       "      <td>Nov-1992</td>\n",
       "      <td>NaN</td>\n",
       "      <td>...</td>\n",
       "      <td>24.0</td>\n",
       "      <td>NaN</td>\n",
       "      <td>0.0</td>\n",
       "      <td>NaN</td>\n",
       "      <td>13.66%</td>\n",
       "      <td>NaN</td>\n",
       "      <td>0.0</td>\n",
       "      <td>NaN</td>\n",
       "      <td>Dec-2014</td>\n",
       "      <td>0</td>\n",
       "    </tr>\n",
       "    <tr>\n",
       "      <th>3</th>\n",
       "      <td>AZ</td>\n",
       "      <td>NaN</td>\n",
       "      <td>C</td>\n",
       "      <td>NaN</td>\n",
       "      <td>260.20</td>\n",
       "      <td>NaN</td>\n",
       "      <td>0.0</td>\n",
       "      <td>0.0</td>\n",
       "      <td>Aug-2002</td>\n",
       "      <td>NaN</td>\n",
       "      <td>...</td>\n",
       "      <td>17.0</td>\n",
       "      <td>NaN</td>\n",
       "      <td>0.0</td>\n",
       "      <td>NaN</td>\n",
       "      <td>13.66%</td>\n",
       "      <td>NaN</td>\n",
       "      <td>0.0</td>\n",
       "      <td>NaN</td>\n",
       "      <td>Dec-2014</td>\n",
       "      <td>1</td>\n",
       "    </tr>\n",
       "    <tr>\n",
       "      <th>5</th>\n",
       "      <td>MO</td>\n",
       "      <td>60.0</td>\n",
       "      <td>D</td>\n",
       "      <td>NaN</td>\n",
       "      <td>516.36</td>\n",
       "      <td>NaN</td>\n",
       "      <td>0.0</td>\n",
       "      <td>0.0</td>\n",
       "      <td>Aug-2003</td>\n",
       "      <td>NaN</td>\n",
       "      <td>...</td>\n",
       "      <td>7.0</td>\n",
       "      <td>NaN</td>\n",
       "      <td>0.0</td>\n",
       "      <td>NaN</td>\n",
       "      <td>15.59%</td>\n",
       "      <td>NaN</td>\n",
       "      <td>0.0</td>\n",
       "      <td>NaN</td>\n",
       "      <td>Dec-2014</td>\n",
       "      <td>0</td>\n",
       "    </tr>\n",
       "  </tbody>\n",
       "</table>\n",
       "<p>5 rows × 103 columns</p>\n",
       "</div>"
      ],
      "text/plain": [
       "  addrstate  mthssincelastdelinq grade  secappmthssincelastmajorderog  \\\n",
       "0        CA                 42.0     A                            NaN   \n",
       "1        VA                  NaN     C                            NaN   \n",
       "2        NJ                  NaN     C                            NaN   \n",
       "3        AZ                  NaN     C                            NaN   \n",
       "5        MO                 60.0     D                            NaN   \n",
       "\n",
       "   installment  totalbalil  accnowdelinq  numtl30dpd earliestcrline  \\\n",
       "0       321.08         NaN           0.0         0.0       Sep-1989   \n",
       "1       336.64         NaN           0.0         0.0       Aug-1994   \n",
       "2       326.53         NaN           0.0         0.0       Nov-1992   \n",
       "3       260.20         NaN           0.0         0.0       Aug-2002   \n",
       "5       516.36         NaN           0.0         0.0       Aug-2003   \n",
       "\n",
       "   openrv12m     ...      mthssincerecentbc  openactil  pubrec  openrv24m  \\\n",
       "0        NaN     ...                    5.0        NaN     0.0        NaN   \n",
       "1        NaN     ...                   47.0        NaN     0.0        NaN   \n",
       "2        NaN     ...                   24.0        NaN     0.0        NaN   \n",
       "3        NaN     ...                   17.0        NaN     0.0        NaN   \n",
       "5        NaN     ...                    7.0        NaN     0.0        NaN   \n",
       "\n",
       "   intrate  secappopenacc pubrecbankruptcies  secappcollections12mthsexmed  \\\n",
       "0    6.99%            NaN                0.0                           NaN   \n",
       "1   12.39%            NaN                0.0                           NaN   \n",
       "2   13.66%            NaN                0.0                           NaN   \n",
       "3   13.66%            NaN                0.0                           NaN   \n",
       "5   15.59%            NaN                0.0                           NaN   \n",
       "\n",
       "     issued  loanstatus  \n",
       "0  Dec-2014           1  \n",
       "1  Dec-2014           0  \n",
       "2  Dec-2014           0  \n",
       "3  Dec-2014           1  \n",
       "5  Dec-2014           0  \n",
       "\n",
       "[5 rows x 103 columns]"
      ]
     },
     "execution_count": 217,
     "metadata": {},
     "output_type": "execute_result"
    }
   ],
   "source": [
    "df.head()"
   ]
  },
  {
   "cell_type": "markdown",
   "metadata": {},
   "source": [
    "## Visualization for categorical feature"
   ]
  },
  {
   "cell_type": "code",
   "execution_count": 218,
   "metadata": {},
   "outputs": [
    {
     "data": {
      "text/plain": [
       "10"
      ]
     },
     "execution_count": 218,
     "metadata": {},
     "output_type": "execute_result"
    }
   ],
   "source": [
    "cat_var = [\n",
    "'addrstate',\n",
    "'grade',\n",
    "# 'earliestcrline',\n",
    " 'initialliststatus',\n",
    "# 'emptitle',\n",
    " 'verificationstatus',\n",
    " 'homeownership',\n",
    " 'term',\n",
    " 'applicationtype',\n",
    " 'purpose',\n",
    " 'subgrade',\n",
    " #'id',\n",
    " 'emplength',\n",
    "# 'zipcode',\n",
    "# 'revolutil',\n",
    "# 'intrate',\n",
    "# 'issued',\n",
    "# 'loanstatus'\n",
    "          ]\n",
    "n = len(cat_var)\n",
    "n"
   ]
  },
  {
   "cell_type": "code",
   "execution_count": 231,
   "metadata": {},
   "outputs": [
    {
     "data": {
      "image/png": "[encoded data removed]",
      "text/plain": [
       "<Figure size 1440x216 with 2 Axes>"
      ]
     },
     "metadata": {},
     "output_type": "display_data"
    },
    {
     "data": {
      "image/png": "[encoded data removed]",
      "text/plain": [
       "<Figure size 1440x216 with 2 Axes>"
      ]
     },
     "metadata": {},
     "output_type": "display_data"
    },
    {
     "data": {
      "image/png": "[encoded data removed]",
      "text/plain": [
       "<Figure size 1440x216 with 2 Axes>"
      ]
     },
     "metadata": {},
     "output_type": "display_data"
    },
    {
     "data": {
      "image/png": "[encoded data removed]",
      "text/plain": [
       "<Figure size 1440x216 with 2 Axes>"
      ]
     },
     "metadata": {},
     "output_type": "display_data"
    },
    {
     "data": {
      "image/png": "[encoded data removed]",
      "text/plain": [
       "<Figure size 1440x216 with 2 Axes>"
      ]
     },
     "metadata": {},
     "output_type": "display_data"
    }
   ],
   "source": [
    "n_cols = 2\n",
    "n_rows = 5\n",
    "for i in range(n_rows):\n",
    "    fg,ax = plt.subplots(nrows=1,ncols=n_cols,figsize=(20, 3))\n",
    "    for j in range(n_cols):\n",
    "        g = sns.countplot( x = cat_var[i*n_cols+j], \n",
    "                          data=df, \n",
    "                          ax=ax[j])\n",
    "\n",
    "        g.set_xticklabels(labels =g.get_xticklabels(), fontdict={'fontsize':12}, rotation = 45)\n",
    "        "
   ]
  },
  {
   "cell_type": "code",
   "execution_count": 56,
   "metadata": {},
   "outputs": [
    {
     "data": {
      "text/plain": [
       "<matplotlib.axes._subplots.AxesSubplot at 0x1c963176dd8>"
      ]
     },
     "execution_count": 56,
     "metadata": {},
     "output_type": "execute_result"
    },
    {
     "data": {
      "image/png": "[encoded data removed]",
      "text/plain": [
       "<Figure size 432x288 with 1 Axes>"
      ]
     },
     "metadata": {},
     "output_type": "display_data"
    }
   ],
   "source": [
    "# why verified incomes gives higher default rates?\n",
    "# verificationstatus\n",
    "sns.barplot(x ='verificationstatus', y='loanstatus', data=df)"
   ]
  },
  {
   "cell_type": "code",
   "execution_count": 60,
   "metadata": {},
   "outputs": [
    {
     "data": {
      "text/plain": [
       "<matplotlib.axes._subplots.AxesSubplot at 0x1c9631e4978>"
      ]
     },
     "execution_count": 60,
     "metadata": {},
     "output_type": "execute_result"
    },
    {
     "data": {
      "image/png": "[encoded data removed]",
      "text/plain": [
       "<Figure size 720x288 with 1 Axes>"
      ]
     },
     "metadata": {},
     "output_type": "display_data"
    }
   ],
   "source": [
    "#delinq2yrs\n",
    "plt.figure(figsize=(10,4))\n",
    "sns.barplot(x=\"delinq2yrs\", y='loanstatus', data=df)"
   ]
  },
  {
   "cell_type": "code",
   "execution_count": 63,
   "metadata": {},
   "outputs": [
    {
     "data": {
      "text/plain": [
       "<matplotlib.axes._subplots.AxesSubplot at 0x1c964765198>"
      ]
     },
     "execution_count": 63,
     "metadata": {},
     "output_type": "execute_result"
    },
    {
     "data": {
      "image/png": "[encoded data removed]",
      "text/plain": [
       "<Figure size 1152x288 with 1 Axes>"
      ]
     },
     "metadata": {},
     "output_type": "display_data"
    }
   ],
   "source": [
    "# addrstate\n",
    "plt.figure(figsize=(16,4))\n",
    "sns.barplot(x=\"addrstate\", y='loanstatus', data=df)"
   ]
  },
  {
   "cell_type": "code",
   "execution_count": 64,
   "metadata": {},
   "outputs": [
    {
     "data": {
      "text/plain": [
       "<matplotlib.axes._subplots.AxesSubplot at 0x1c96483f2e8>"
      ]
     },
     "execution_count": 64,
     "metadata": {},
     "output_type": "execute_result"
    },
    {
     "data": {
      "image/png": "[encoded data removed]",
      "text/plain": [
       "<Figure size 432x288 with 1 Axes>"
      ]
     },
     "metadata": {},
     "output_type": "display_data"
    }
   ],
   "source": [
    "# homeownership\n",
    "sns.barplot(x='homeownership', y='loanstatus', data=df)"
   ]
  },
  {
   "cell_type": "code",
   "execution_count": 65,
   "metadata": {},
   "outputs": [
    {
     "data": {
      "text/plain": [
       "<matplotlib.axes._subplots.AxesSubplot at 0x1c964b8d2b0>"
      ]
     },
     "execution_count": 65,
     "metadata": {},
     "output_type": "execute_result"
    },
    {
     "data": {
      "image/png": "[encoded data removed]",
      "text/plain": [
       "<Figure size 432x288 with 1 Axes>"
      ]
     },
     "metadata": {},
     "output_type": "display_data"
    }
   ],
   "source": [
    "# grade\n",
    "sns.barplot(x= \"grade\", y='loanstatus', data=df, order = ['A', 'B', 'C', 'D', 'E', 'F', 'G'])"
   ]
  },
  {
   "cell_type": "code",
   "execution_count": 66,
   "metadata": {},
   "outputs": [
    {
     "data": {
      "text/plain": [
       "array(['A1', 'A2', 'A3', 'A4', 'A5', 'B1', 'B2', 'B3', 'B4', 'B5', 'C1',\n",
       "       'C2', 'C3', 'C4', 'C5', 'D1', 'D2', 'D3', 'D4', 'D5', 'E1', 'E2',\n",
       "       'E3', 'E4', 'E5', 'F1', 'F2', 'F3', 'F4', 'F5', 'G1', 'G2', 'G3',\n",
       "       'G4', 'G5'], dtype=object)"
      ]
     },
     "execution_count": 66,
     "metadata": {},
     "output_type": "execute_result"
    }
   ],
   "source": [
    "# subgrade\n",
    "np.sort(df.subgrade.unique())"
   ]
  },
  {
   "cell_type": "code",
   "execution_count": 67,
   "metadata": {},
   "outputs": [
    {
     "data": {
      "text/plain": [
       "<matplotlib.axes._subplots.AxesSubplot at 0x1c96472b400>"
      ]
     },
     "execution_count": 67,
     "metadata": {},
     "output_type": "execute_result"
    },
    {
     "data": {
      "image/png": "[encoded data removed]",
      "text/plain": [
       "<Figure size 720x288 with 1 Axes>"
      ]
     },
     "metadata": {},
     "output_type": "display_data"
    }
   ],
   "source": [
    "plt.figure(figsize=(10,4))\n",
    "sns.barplot(x= \"subgrade\", y='loanstatus', data=df, order = np.sort(df.subgrade.unique()))"
   ]
  },
  {
   "cell_type": "markdown",
   "metadata": {},
   "source": [
    "## Visualization for numerical feature"
   ]
  },
  {
   "cell_type": "code",
   "execution_count": 155,
   "metadata": {},
   "outputs": [
    {
     "name": "stdout",
     "output_type": "stream",
     "text": [
      "dti  loanstatus\n",
      "0    0             38755\n",
      "     1              6198\n",
      "1    0             37926\n",
      "     1              7015\n",
      "2    0             36928\n",
      "     1              7985\n",
      "3    0             35697\n",
      "     1              9182\n",
      "4    0             34042\n",
      "     1             10878\n",
      "dtype: int64\n",
      "loanstatus      0      1\n",
      "dti                     \n",
      "0           38755   6198\n",
      "1           37926   7015\n",
      "2           36928   7985\n",
      "3           35697   9182\n",
      "4           34042  10878\n"
     ]
    },
    {
     "data": {
      "text/html": [
       "<div>\n",
       "<style scoped>\n",
       "    .dataframe tbody tr th:only-of-type {\n",
       "        vertical-align: middle;\n",
       "    }\n",
       "\n",
       "    .dataframe tbody tr th {\n",
       "        vertical-align: top;\n",
       "    }\n",
       "\n",
       "    .dataframe thead th {\n",
       "        text-align: right;\n",
       "    }\n",
       "</style>\n",
       "<table border=\"1\" class=\"dataframe\">\n",
       "  <thead>\n",
       "    <tr style=\"text-align: right;\">\n",
       "      <th>loanstatus</th>\n",
       "      <th>0</th>\n",
       "      <th>1</th>\n",
       "    </tr>\n",
       "    <tr>\n",
       "      <th>dti</th>\n",
       "      <th></th>\n",
       "      <th></th>\n",
       "    </tr>\n",
       "  </thead>\n",
       "  <tbody>\n",
       "    <tr>\n",
       "      <th>0</th>\n",
       "      <td>0.862123</td>\n",
       "      <td>0.137877</td>\n",
       "    </tr>\n",
       "    <tr>\n",
       "      <th>1</th>\n",
       "      <td>0.843906</td>\n",
       "      <td>0.156094</td>\n",
       "    </tr>\n",
       "    <tr>\n",
       "      <th>2</th>\n",
       "      <td>0.822212</td>\n",
       "      <td>0.177788</td>\n",
       "    </tr>\n",
       "    <tr>\n",
       "      <th>3</th>\n",
       "      <td>0.795405</td>\n",
       "      <td>0.204595</td>\n",
       "    </tr>\n",
       "    <tr>\n",
       "      <th>4</th>\n",
       "      <td>0.757836</td>\n",
       "      <td>0.242164</td>\n",
       "    </tr>\n",
       "  </tbody>\n",
       "</table>\n",
       "</div>"
      ],
      "text/plain": [
       "loanstatus         0         1\n",
       "dti                           \n",
       "0           0.862123  0.137877\n",
       "1           0.843906  0.156094\n",
       "2           0.822212  0.177788\n",
       "3           0.795405  0.204595\n",
       "4           0.757836  0.242164"
      ]
     },
     "execution_count": 155,
     "metadata": {},
     "output_type": "execute_result"
    }
   ],
   "source": [
    "feat_name = 'dti'\n",
    "factor = pd.qcut(df[feat_name],5, duplicates='drop',  labels = False)\n",
    "factor\n",
    "table=df.groupby([factor, 'loanstatus']).size()\n",
    "print(table)\n",
    "table = table.unstack('loanstatus')\n",
    "print(table)\n",
    "table.div(table.sum(1), axis=0)"
   ]
  },
  {
   "cell_type": "code",
   "execution_count": 191,
   "metadata": {},
   "outputs": [],
   "source": [
    "def countinuous_variable_plot(feat_name):\n",
    "    sns.set_style(\"whitegrid\", {'axes.edgecolor': '0'})\n",
    "    \n",
    "    factor = pd.qcut(df[feat_name], 5, labels = False) #groups the data act on groups                                                               #seperately\n",
    "    table = df.groupby([factor, 'loanstatus']).size() #gets group size counts, hashed by the two variables\n",
    "    table = table.unstack('loanstatus') #splits the data into 2 columns, 0, 1, each indexed by the\n",
    "    normedtable = table.div(table.sum(1), axis=0) #divides the counts by the totals\n",
    "    \n",
    "    fig, ax = plt.subplots(1, 1, figsize=(12,6))\n",
    "    normedtable.ix[:, 1].plot(kind = 'bar', alpha=0.9, color =\"#FD2C10\" , ax = ax )\n",
    "    \n",
    "    ax.set_xlabel(\"%s percentile\" % feat_name , fontsize = 18)\n",
    "    ax.set_ylabel('Default Rate', fontsize = 18)\n",
    "    \n",
    "    x = range(5)\n",
    "    labels = ['20%tile', '40%tile', '60%tile', '80%tile', '100%tile']\n",
    "    plt.xticks(x, labels, rotation='0', fontsize = 16)\n",
    "    \n",
    "    sns.despine()\n",
    "    ax.set_title(\"Loan Performance with respect to %s\" % feat_name, fontsize=20 )\n",
    "    \n",
    "   # fig.savefig('age.jpg')"
   ]
  },
  {
   "cell_type": "code",
   "execution_count": 192,
   "metadata": {},
   "outputs": [
    {
     "name": "stderr",
     "output_type": "stream",
     "text": [
      "C:\\Users\\chloe.song\\AppData\\Local\\Continuum\\anaconda3\\lib\\site-packages\\ipykernel_launcher.py:10: DeprecationWarning: \n",
      ".ix is deprecated. Please use\n",
      ".loc for label based indexing or\n",
      ".iloc for positional indexing\n",
      "\n",
      "See the documentation here:\n",
      "http://pandas.pydata.org/pandas-docs/stable/indexing.html#ix-indexer-is-deprecated\n",
      "  # Remove the CWD from sys.path while we load stuff.\n"
     ]
    },
    {
     "data": {
      "image/png": "[encoded data removed]",
      "text/plain": [
       "<Figure size 864x432 with 1 Axes>"
      ]
     },
     "metadata": {},
     "output_type": "display_data"
    }
   ],
   "source": [
    "countinuous_variable_plot('annualinc')"
   ]
  },
  {
   "cell_type": "code",
   "execution_count": 193,
   "metadata": {},
   "outputs": [
    {
     "name": "stderr",
     "output_type": "stream",
     "text": [
      "C:\\Users\\chloe.song\\AppData\\Local\\Continuum\\anaconda3\\lib\\site-packages\\ipykernel_launcher.py:10: DeprecationWarning: \n",
      ".ix is deprecated. Please use\n",
      ".loc for label based indexing or\n",
      ".iloc for positional indexing\n",
      "\n",
      "See the documentation here:\n",
      "http://pandas.pydata.org/pandas-docs/stable/indexing.html#ix-indexer-is-deprecated\n",
      "  # Remove the CWD from sys.path while we load stuff.\n"
     ]
    },
    {
     "data": {
      "image/png": "[encoded data removed]",
      "text/plain": [
       "<Figure size 864x432 with 1 Axes>"
      ]
     },
     "metadata": {},
     "output_type": "display_data"
    }
   ],
   "source": [
    "countinuous_variable_plot('dti')"
   ]
  },
  {
   "cell_type": "code",
   "execution_count": 194,
   "metadata": {},
   "outputs": [
    {
     "name": "stderr",
     "output_type": "stream",
     "text": [
      "C:\\Users\\chloe.song\\AppData\\Local\\Continuum\\anaconda3\\lib\\site-packages\\ipykernel_launcher.py:10: DeprecationWarning: \n",
      ".ix is deprecated. Please use\n",
      ".loc for label based indexing or\n",
      ".iloc for positional indexing\n",
      "\n",
      "See the documentation here:\n",
      "http://pandas.pydata.org/pandas-docs/stable/indexing.html#ix-indexer-is-deprecated\n",
      "  # Remove the CWD from sys.path while we load stuff.\n"
     ]
    },
    {
     "data": {
      "image/png": "[encoded data removed]",
      "text/plain": [
       "<Figure size 864x432 with 1 Axes>"
      ]
     },
     "metadata": {},
     "output_type": "display_data"
    }
   ],
   "source": [
    "countinuous_variable_plot('revolbal')"
   ]
  },
  {
   "cell_type": "code",
   "execution_count": 195,
   "metadata": {},
   "outputs": [
    {
     "name": "stderr",
     "output_type": "stream",
     "text": [
      "C:\\Users\\chloe.song\\AppData\\Local\\Continuum\\anaconda3\\lib\\site-packages\\ipykernel_launcher.py:10: DeprecationWarning: \n",
      ".ix is deprecated. Please use\n",
      ".loc for label based indexing or\n",
      ".iloc for positional indexing\n",
      "\n",
      "See the documentation here:\n",
      "http://pandas.pydata.org/pandas-docs/stable/indexing.html#ix-indexer-is-deprecated\n",
      "  # Remove the CWD from sys.path while we load stuff.\n"
     ]
    },
    {
     "data": {
      "image/png": "[encoded data removed]",
      "text/plain": [
       "<Figure size 864x432 with 1 Axes>"
      ]
     },
     "metadata": {},
     "output_type": "display_data"
    }
   ],
   "source": [
    "countinuous_variable_plot('tothicredlim')"
   ]
  },
  {
   "cell_type": "code",
   "execution_count": 196,
   "metadata": {},
   "outputs": [
    {
     "name": "stderr",
     "output_type": "stream",
     "text": [
      "C:\\Users\\chloe.song\\AppData\\Local\\Continuum\\anaconda3\\lib\\site-packages\\ipykernel_launcher.py:10: DeprecationWarning: \n",
      ".ix is deprecated. Please use\n",
      ".loc for label based indexing or\n",
      ".iloc for positional indexing\n",
      "\n",
      "See the documentation here:\n",
      "http://pandas.pydata.org/pandas-docs/stable/indexing.html#ix-indexer-is-deprecated\n",
      "  # Remove the CWD from sys.path while we load stuff.\n"
     ]
    },
    {
     "data": {
      "image/png": "[encoded data removed]",
      "text/plain": [
       "<Figure size 864x432 with 1 Axes>"
      ]
     },
     "metadata": {},
     "output_type": "display_data"
    }
   ],
   "source": [
    "countinuous_variable_plot('totalbalexmort')"
   ]
  },
  {
   "cell_type": "code",
   "execution_count": 197,
   "metadata": {},
   "outputs": [
    {
     "name": "stderr",
     "output_type": "stream",
     "text": [
      "C:\\Users\\chloe.song\\AppData\\Local\\Continuum\\anaconda3\\lib\\site-packages\\ipykernel_launcher.py:10: DeprecationWarning: \n",
      ".ix is deprecated. Please use\n",
      ".loc for label based indexing or\n",
      ".iloc for positional indexing\n",
      "\n",
      "See the documentation here:\n",
      "http://pandas.pydata.org/pandas-docs/stable/indexing.html#ix-indexer-is-deprecated\n",
      "  # Remove the CWD from sys.path while we load stuff.\n"
     ]
    },
    {
     "data": {
      "image/png": "[encoded data removed]",
      "text/plain": [
       "<Figure size 864x432 with 1 Axes>"
      ]
     },
     "metadata": {},
     "output_type": "display_data"
    }
   ],
   "source": [
    "countinuous_variable_plot('totalbclimit')"
   ]
  },
  {
   "cell_type": "code",
   "execution_count": 198,
   "metadata": {},
   "outputs": [
    {
     "name": "stderr",
     "output_type": "stream",
     "text": [
      "C:\\Users\\chloe.song\\AppData\\Local\\Continuum\\anaconda3\\lib\\site-packages\\ipykernel_launcher.py:10: DeprecationWarning: \n",
      ".ix is deprecated. Please use\n",
      ".loc for label based indexing or\n",
      ".iloc for positional indexing\n",
      "\n",
      "See the documentation here:\n",
      "http://pandas.pydata.org/pandas-docs/stable/indexing.html#ix-indexer-is-deprecated\n",
      "  # Remove the CWD from sys.path while we load stuff.\n"
     ]
    },
    {
     "data": {
      "image/png": "[encoded data removed]",
      "text/plain": [
       "<Figure size 864x432 with 1 Axes>"
      ]
     },
     "metadata": {},
     "output_type": "display_data"
    }
   ],
   "source": [
    "countinuous_variable_plot('totalilhighcreditlimit')"
   ]
  },
  {
   "cell_type": "code",
   "execution_count": null,
   "metadata": {
    "collapsed": true
   },
   "outputs": [],
   "source": []
  }
 ],
 "metadata": {
  "anaconda-cloud": {},
  "kernelspec": {
   "display_name": "Python 3",
   "language": "python",
   "name": "python3"
  },
  "language_info": {
   "codemirror_mode": {
    "name": "ipython",
    "version": 3
   },
   "file_extension": ".py",
   "mimetype": "text/x-python",
   "name": "python",
   "nbconvert_exporter": "python",
   "pygments_lexer": "ipython3",
   "version": "3.6.5"
  },
  "toc": {
   "base_numbering": 1,
   "nav_menu": {},
   "number_sections": true,
   "sideBar": true,
   "skip_h1_title": false,
   "title_cell": "Table of Contents",
   "title_sidebar": "Contents",
   "toc_cell": false,
   "toc_position": {
    "height": "calc(100% - 180px)",
    "left": "10px",
    "top": "150px",
    "width": "216px"
   },
   "toc_section_display": "block",
   "toc_window_display": true
  }
 },
 "nbformat": 4,
 "nbformat_minor": 1
}
